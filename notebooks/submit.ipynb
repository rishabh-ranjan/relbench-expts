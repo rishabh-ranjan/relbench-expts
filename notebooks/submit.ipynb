{
 "cells": [
  {
   "cell_type": "code",
   "execution_count": 1,
   "id": "1e1ca310-c81e-4a4e-b941-6b872028c755",
   "metadata": {
    "execution": {
     "iopub.execute_input": "2024-07-03T04:48:30.638417Z",
     "iopub.status.busy": "2024-07-03T04:48:30.637767Z",
     "iopub.status.idle": "2024-07-03T04:48:34.320089Z",
     "shell.execute_reply": "2024-07-03T04:48:34.319195Z",
     "shell.execute_reply.started": "2024-07-03T04:48:30.638389Z"
    }
   },
   "outputs": [],
   "source": [
    "import time\n",
    "from pathlib import Path\n",
    "\n",
    "import roach\n",
    "\n",
    "from relbench.base import TaskType\n",
    "from relbench.datasets import get_dataset_names\n",
    "from relbench.tasks import get_task, get_task_names"
   ]
  },
  {
   "cell_type": "code",
   "execution_count": 2,
   "id": "0924da13-3665-4232-ae07-060f4750d6ea",
   "metadata": {
    "execution": {
     "iopub.execute_input": "2024-07-03T04:48:35.390877Z",
     "iopub.status.busy": "2024-07-03T04:48:35.390032Z",
     "iopub.status.idle": "2024-07-03T04:48:35.427541Z",
     "shell.execute_reply": "2024-07-03T04:48:35.426418Z",
     "shell.execute_reply.started": "2024-07-03T04:48:35.390849Z"
    }
   },
   "outputs": [],
   "source": [
    "project = \"relbench/2024-07-02\"\n",
    "queue_gpu = \"relbench_gpu\"\n",
    "queue_cpu = \"relbench_cpu\""
   ]
  },
  {
   "cell_type": "markdown",
   "id": "7f355fc7-4dc1-4408-bc74-44724f0884b3",
   "metadata": {},
   "source": [
    "# cache materialized tensorframes"
   ]
  },
  {
   "cell_type": "code",
   "execution_count": 13,
   "id": "4a9227e4-466c-41eb-8f26-0d611eae6923",
   "metadata": {
    "execution": {
     "iopub.execute_input": "2024-07-01T19:00:50.955094Z",
     "iopub.status.busy": "2024-07-01T19:00:50.954580Z",
     "iopub.status.idle": "2024-07-01T19:00:50.978723Z",
     "shell.execute_reply": "2024-07-01T19:00:50.978253Z",
     "shell.execute_reply.started": "2024-07-01T19:00:50.955076Z"
    }
   },
   "outputs": [],
   "source": [
    "# clear current cache with backup\n",
    "ts = int(time.time())\n",
    "home = Path.home()\n",
    "try:\n",
    "    Path(f\"{home}/.cache/relbench_examples\").rename(\n",
    "        f\"{home}/.cache/relbench_examples.{ts}\"\n",
    "    )\n",
    "except FileNotFoundError:\n",
    "    pass"
   ]
  },
  {
   "cell_type": "code",
   "execution_count": 15,
   "id": "44f49283-3f04-449c-b7e3-d86bd3bd82aa",
   "metadata": {
    "execution": {
     "iopub.execute_input": "2024-07-01T19:29:19.442416Z",
     "iopub.status.busy": "2024-07-01T19:29:19.442141Z",
     "iopub.status.idle": "2024-07-01T19:29:19.539802Z",
     "shell.execute_reply": "2024-07-01T19:29:19.539171Z",
     "shell.execute_reply.started": "2024-07-01T19:29:19.442398Z"
    }
   },
   "outputs": [],
   "source": [
    "for dataset in get_dataset_names():\n",
    "    task = get_task_names(dataset)[0]\n",
    "    task_obj = get_task(dataset, task)\n",
    "    if task_obj.task_type.value == TaskType.LINK_PREDICTION.value:\n",
    "        script = \"gnn_link\"\n",
    "    else:\n",
    "        script = \"gnn_node\"\n",
    "    # epochs=0 throws exception\n",
    "    cmd = f\"python {script}.py --dataset {dataset} --task {task} --epochs 1\"\n",
    "    roach.submit(queue, cmd)"
   ]
  },
  {
   "cell_type": "code",
   "execution_count": 18,
   "id": "3879891f-4aeb-4eb0-91ae-ed30099a8384",
   "metadata": {
    "execution": {
     "iopub.execute_input": "2024-07-01T21:23:51.402285Z",
     "iopub.status.busy": "2024-07-01T21:23:51.402010Z",
     "iopub.status.idle": "2024-07-01T21:23:51.431459Z",
     "shell.execute_reply": "2024-07-01T21:23:51.430783Z",
     "shell.execute_reply.started": "2024-07-01T21:23:51.402266Z"
    }
   },
   "outputs": [],
   "source": [
    "# download all tasks beforehand\n",
    "for dataset in get_dataset_names():\n",
    "    for task in get_task_names(dataset):\n",
    "        py_cmd = (\n",
    "            f\"from relbench.tasks import download_task; \"\n",
    "            f'download_task(\"{dataset}\", \"{task}\")'\n",
    "        )\n",
    "        assert \"'\" not in py_cmd\n",
    "        cmd = f\"python -c '{py_cmd}'\"\n",
    "        roach.submit(queue, cmd)"
   ]
  },
  {
   "cell_type": "markdown",
   "id": "57a480db-bfc8-4e3e-a9c2-e677ede7321d",
   "metadata": {},
   "source": [
    "# training runs"
   ]
  },
  {
   "cell_type": "code",
   "execution_count": 4,
   "id": "4fc990e3-13db-4dd7-976f-fca430eb17d7",
   "metadata": {
    "execution": {
     "iopub.execute_input": "2024-07-03T04:49:53.236901Z",
     "iopub.status.busy": "2024-07-03T04:49:53.236609Z",
     "iopub.status.idle": "2024-07-03T04:49:53.298841Z",
     "shell.execute_reply": "2024-07-03T04:49:53.298334Z",
     "shell.execute_reply.started": "2024-07-03T04:49:53.236883Z"
    }
   },
   "outputs": [],
   "source": [
    "for seed in range(5):\n",
    "    for dataset in get_dataset_names():\n",
    "        for task in get_task_names(dataset):\n",
    "            task_obj = get_task(dataset, task)\n",
    "            if task_obj.task_type.value == TaskType.LINK_PREDICTION.value:\n",
    "                scripts = [\n",
    "                    \"gnn_link\",\n",
    "                    \"idgnn_link\",\n",
    "                    \"lightgbm_link\",\n",
    "                    \"baseline_link\",\n",
    "                ]\n",
    "            else:\n",
    "                scripts = [\n",
    "                    \"gnn_node\",\n",
    "                    \"lightgbm_node\",\n",
    "                    # \"hybrid_node\",\n",
    "                    \"baseline_node\",\n",
    "                ]\n",
    "            for script in scripts:\n",
    "                cmd = (\n",
    "                    f\"OMP_NUM_THREADS=8\"\n",
    "                    f\" python {script}.py\"\n",
    "                    f\" --dataset {dataset}\"\n",
    "                    f\" --task {task}\"\n",
    "                    f\" --seed {seed}\"\n",
    "                    f\" --roach_project {project}\"\n",
    "                )\n",
    "                if dataset == \"rel-trial\":\n",
    "                    if script == \"gnn_node\":\n",
    "                        cmd += f\" --epochs 20\"\n",
    "                        if task_obj.task_type.value in [\n",
    "                            TaskType.BINARY_CLASSIFICATION.value,\n",
    "                            TaskType.MULTICLASS_CLASSIFICATION.value,\n",
    "                        ]:\n",
    "                            cmd += f\" --lr 0.0001\"\n",
    "                            cmd += f\" --num_neighbors 64\"\n",
    "                            cmd += f\" --aggr mean\"\n",
    "                        elif task_obj.task_type.value == TaskType.REGRESSION.value:\n",
    "                            cmd += f\" --lr 0.01\"\n",
    "                    elif script == \"idgnn_link\":\n",
    "                        cmd += f\" --num_layers 4\"\n",
    "                # FIXME: existence of dataset cache dir does not mean that materialization has finished!\n",
    "                requires = (\n",
    "                    f\"test -d ~/.cache/relbench_examples/{dataset} && \"\n",
    "                    f\"test -f ~/.cache/relbench/{dataset}/tasks/{task}.zip\"\n",
    "                )\n",
    "                if script in [\"gnn_link\", \"idgnn_link\", \"gnn_node\"]:\n",
    "                    queue = queue_gpu\n",
    "                elif script in [\"lightgbm_link\", \"lightgbm_node\", \"baseline_node\"]:\n",
    "                    queue = queue_cpu\n",
    "                roach.submit(queue, cmd, requires)"
   ]
  },
  {
   "cell_type": "code",
   "execution_count": null,
   "id": "21086d2a-d0cb-4afa-84f4-905fcf34d698",
   "metadata": {},
   "outputs": [],
   "source": []
  }
 ],
 "metadata": {
  "kernelspec": {
   "display_name": "Python 3 (ipykernel)",
   "language": "python",
   "name": "python3"
  },
  "language_info": {
   "codemirror_mode": {
    "name": "ipython",
    "version": 3
   },
   "file_extension": ".py",
   "mimetype": "text/x-python",
   "name": "python",
   "nbconvert_exporter": "python",
   "pygments_lexer": "ipython3",
   "version": "3.8.19"
  }
 },
 "nbformat": 4,
 "nbformat_minor": 5
}
