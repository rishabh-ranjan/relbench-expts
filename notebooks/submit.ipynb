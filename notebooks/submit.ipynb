{
 "cells": [
  {
   "cell_type": "code",
   "execution_count": 11,
   "id": "1e1ca310-c81e-4a4e-b941-6b872028c755",
   "metadata": {
    "execution": {
     "iopub.execute_input": "2024-07-01T19:00:19.320981Z",
     "iopub.status.busy": "2024-07-01T19:00:19.320299Z",
     "iopub.status.idle": "2024-07-01T19:00:19.349193Z",
     "shell.execute_reply": "2024-07-01T19:00:19.348674Z",
     "shell.execute_reply.started": "2024-07-01T19:00:19.320950Z"
    }
   },
   "outputs": [],
   "source": [
    "from pathlib import Path\n",
    "import time\n",
    "\n",
    "import roach\n",
    "\n",
    "from relbench.data import TaskType\n",
    "from relbench.datasets import get_dataset_names\n",
    "from relbench.tasks import get_task_names, get_task"
   ]
  },
  {
   "cell_type": "code",
   "execution_count": 4,
   "id": "0924da13-3665-4232-ae07-060f4750d6ea",
   "metadata": {
    "execution": {
     "iopub.execute_input": "2024-07-01T18:46:44.798922Z",
     "iopub.status.busy": "2024-07-01T18:46:44.798688Z",
     "iopub.status.idle": "2024-07-01T18:46:44.833567Z",
     "shell.execute_reply": "2024-07-01T18:46:44.833030Z",
     "shell.execute_reply.started": "2024-07-01T18:46:44.798897Z"
    }
   },
   "outputs": [],
   "source": [
    "project = \"relbench/2024-07-01\"\n",
    "queue = \"relbench\""
   ]
  },
  {
   "cell_type": "markdown",
   "id": "7f355fc7-4dc1-4408-bc74-44724f0884b3",
   "metadata": {},
   "source": [
    "# cache materialized tensorframes"
   ]
  },
  {
   "cell_type": "code",
   "execution_count": 13,
   "id": "4a9227e4-466c-41eb-8f26-0d611eae6923",
   "metadata": {
    "execution": {
     "iopub.execute_input": "2024-07-01T19:00:50.955094Z",
     "iopub.status.busy": "2024-07-01T19:00:50.954580Z",
     "iopub.status.idle": "2024-07-01T19:00:50.978723Z",
     "shell.execute_reply": "2024-07-01T19:00:50.978253Z",
     "shell.execute_reply.started": "2024-07-01T19:00:50.955076Z"
    }
   },
   "outputs": [],
   "source": [
    "# clear current cache with backup\n",
    "ts = int(time.time())\n",
    "home = Path.home()\n",
    "try:\n",
    "    Path(f\"{home}/.cache/relbench_examples\").rename(f\"{home}/.cache/relbench_examples.{ts}\")\n",
    "except FileNotFoundError:\n",
    "    pass"
   ]
  },
  {
   "cell_type": "code",
   "execution_count": 15,
   "id": "44f49283-3f04-449c-b7e3-d86bd3bd82aa",
   "metadata": {
    "execution": {
     "iopub.execute_input": "2024-07-01T19:29:19.442416Z",
     "iopub.status.busy": "2024-07-01T19:29:19.442141Z",
     "iopub.status.idle": "2024-07-01T19:29:19.539802Z",
     "shell.execute_reply": "2024-07-01T19:29:19.539171Z",
     "shell.execute_reply.started": "2024-07-01T19:29:19.442398Z"
    }
   },
   "outputs": [],
   "source": [
    "for dataset in get_dataset_names():\n",
    "    task = get_task_names(dataset)[0]\n",
    "    task_obj = get_task(dataset, task)\n",
    "    if task_obj.task_type == TaskType.LINK_PREDICTION:\n",
    "        script = \"gnn_link\"\n",
    "    else:\n",
    "        script = \"gnn_node\"\n",
    "    # epochs=0 throws exception\n",
    "    cmd = f\"python {script}.py --dataset {dataset} --task {task} --epochs 1\"\n",
    "    roach.submit(queue, cmd)"
   ]
  },
  {
   "cell_type": "code",
   "execution_count": 18,
   "id": "3879891f-4aeb-4eb0-91ae-ed30099a8384",
   "metadata": {
    "execution": {
     "iopub.execute_input": "2024-07-01T21:23:51.402285Z",
     "iopub.status.busy": "2024-07-01T21:23:51.402010Z",
     "iopub.status.idle": "2024-07-01T21:23:51.431459Z",
     "shell.execute_reply": "2024-07-01T21:23:51.430783Z",
     "shell.execute_reply.started": "2024-07-01T21:23:51.402266Z"
    }
   },
   "outputs": [],
   "source": [
    "# download all tasks beforehand\n",
    "for dataset in get_dataset_names():\n",
    "    for task in get_task_names(dataset):\n",
    "        py_cmd = (\n",
    "            f\"from relbench.tasks import download_task; \"\n",
    "            f\"download_task(\\\"{dataset}\\\", \\\"{task}\\\")\"\n",
    "        )\n",
    "        assert \"'\" not in py_cmd\n",
    "        cmd = f\"python -c '{py_cmd}'\"\n",
    "        roach.submit(queue, cmd)"
   ]
  },
  {
   "cell_type": "code",
   "execution_count": 16,
   "id": "4fc990e3-13db-4dd7-976f-fca430eb17d7",
   "metadata": {
    "execution": {
     "iopub.execute_input": "2024-07-01T21:02:54.484553Z",
     "iopub.status.busy": "2024-07-01T21:02:54.484303Z",
     "iopub.status.idle": "2024-07-01T21:02:54.529479Z",
     "shell.execute_reply": "2024-07-01T21:02:54.528456Z",
     "shell.execute_reply.started": "2024-07-01T21:02:54.484537Z"
    }
   },
   "outputs": [],
   "source": [
    "for seed in range(1):\n",
    "    for dataset in get_dataset_names():\n",
    "        if dataset not in [\"rel-f1\", \"rel-trial\"]:\n",
    "            continue\n",
    "        for task in get_task_names(dataset):\n",
    "            task_obj = get_task(dataset, task)\n",
    "            if task_obj.task_type == TaskType.LINK_PREDICTION:\n",
    "                scripts = [\n",
    "                    \"gnn_link\",\n",
    "                    \"idgnn_link\",\n",
    "                    \"lightgbm_link_baseline\",\n",
    "                    \"link_baseline\",\n",
    "                ]\n",
    "            else:\n",
    "                scripts = [\n",
    "                    \"gnn_node\",\n",
    "                    \"lightgbm_baseline\",\n",
    "                    \"lightgbm_gnn_features_node\",\n",
    "                    \"node_baseline\",\n",
    "                ]\n",
    "            for script in scripts:\n",
    "                cmd = (\n",
    "                    f\"OMP_NUM_THREADS=8\"\n",
    "                    f\" python {script}.py\"\n",
    "                    f\" --dataset {dataset}\"\n",
    "                    f\" --task {task}\"\n",
    "                    f\" --seed {seed}\"\n",
    "                    f\" --roach_project {project}\"\n",
    "                )\n",
    "                requires = (\n",
    "                    f\"test -d ~/.cache/relbench_examples/{dataset} && \"\n",
    "                    f\"test -d ~/.cache/relbench/{dataset}/tasks/{task}.zip\"\n",
    "                )\n",
    "                roach.submit(queue, cmd, requires)"
   ]
  },
  {
   "cell_type": "code",
   "execution_count": null,
   "id": "1795713d-76c1-4707-af46-9275801a1867",
   "metadata": {},
   "outputs": [],
   "source": []
  }
 ],
 "metadata": {
  "kernelspec": {
   "display_name": "Python 3 (ipykernel)",
   "language": "python",
   "name": "python3"
  },
  "language_info": {
   "codemirror_mode": {
    "name": "ipython",
    "version": 3
   },
   "file_extension": ".py",
   "mimetype": "text/x-python",
   "name": "python",
   "nbconvert_exporter": "python",
   "pygments_lexer": "ipython3",
   "version": "3.10.14"
  }
 },
 "nbformat": 4,
 "nbformat_minor": 5
}
