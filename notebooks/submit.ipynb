{
 "cells": [
  {
   "cell_type": "code",
   "execution_count": 11,
   "id": "1e1ca310-c81e-4a4e-b941-6b872028c755",
   "metadata": {
    "execution": {
     "iopub.execute_input": "2024-07-01T19:00:19.320981Z",
     "iopub.status.busy": "2024-07-01T19:00:19.320299Z",
     "iopub.status.idle": "2024-07-01T19:00:19.349193Z",
     "shell.execute_reply": "2024-07-01T19:00:19.348674Z",
     "shell.execute_reply.started": "2024-07-01T19:00:19.320950Z"
    }
   },
   "outputs": [],
   "source": [
    "from pathlib import Path\n",
    "import time\n",
    "\n",
    "import roach\n",
    "\n",
    "from relbench.data import TaskType\n",
    "from relbench.datasets import get_dataset_names\n",
    "from relbench.tasks import get_task_names, get_task"
   ]
  },
  {
   "cell_type": "code",
   "execution_count": 4,
   "id": "0924da13-3665-4232-ae07-060f4750d6ea",
   "metadata": {
    "execution": {
     "iopub.execute_input": "2024-07-01T18:46:44.798922Z",
     "iopub.status.busy": "2024-07-01T18:46:44.798688Z",
     "iopub.status.idle": "2024-07-01T18:46:44.833567Z",
     "shell.execute_reply": "2024-07-01T18:46:44.833030Z",
     "shell.execute_reply.started": "2024-07-01T18:46:44.798897Z"
    }
   },
   "outputs": [],
   "source": [
    "project = \"relbench/2024-07-01\"\n",
    "queue = \"relbench\""
   ]
  },
  {
   "cell_type": "markdown",
   "id": "7f355fc7-4dc1-4408-bc74-44724f0884b3",
   "metadata": {},
   "source": [
    "# cache materialize tensorframes"
   ]
  },
  {
   "cell_type": "code",
   "execution_count": 13,
   "id": "4a9227e4-466c-41eb-8f26-0d611eae6923",
   "metadata": {
    "execution": {
     "iopub.execute_input": "2024-07-01T19:00:50.955094Z",
     "iopub.status.busy": "2024-07-01T19:00:50.954580Z",
     "iopub.status.idle": "2024-07-01T19:00:50.978723Z",
     "shell.execute_reply": "2024-07-01T19:00:50.978253Z",
     "shell.execute_reply.started": "2024-07-01T19:00:50.955076Z"
    }
   },
   "outputs": [],
   "source": [
    "# clear current cache with backup\n",
    "ts = int(time.time())\n",
    "home = Path.home()\n",
    "try:\n",
    "    Path(f\"{home}/.cache/relbench_examples\").rename(f\"{home}/.cache/relbench_examples.{ts}\")\n",
    "except FileNotFoundError:\n",
    "    pass"
   ]
  },
  {
   "cell_type": "code",
   "execution_count": 15,
   "id": "44f49283-3f04-449c-b7e3-d86bd3bd82aa",
   "metadata": {
    "execution": {
     "iopub.execute_input": "2024-07-01T19:29:19.442416Z",
     "iopub.status.busy": "2024-07-01T19:29:19.442141Z",
     "iopub.status.idle": "2024-07-01T19:29:19.539802Z",
     "shell.execute_reply": "2024-07-01T19:29:19.539171Z",
     "shell.execute_reply.started": "2024-07-01T19:29:19.442398Z"
    }
   },
   "outputs": [],
   "source": [
    "for dataset in get_dataset_names():\n",
    "    task = get_task_names(dataset)[0]\n",
    "    task_obj = get_task(dataset, task)\n",
    "    if task_obj.task_type == TaskType.LINK_PREDICTION:\n",
    "        script = \"gnn_link\"\n",
    "    else:\n",
    "        script = \"gnn_node\"\n",
    "    # epochs=0 throws exception\n",
    "    cmd = f\"python {script}.py --dataset {dataset} --task {task} --epochs 1\"\n",
    "    roach.submit(queue, cmd)"
   ]
  },
  {
   "cell_type": "markdown",
   "id": "5894af8e-08af-4264-b728-491e6de9fae8",
   "metadata": {},
   "source": [
    "# node tasks"
   ]
  },
  {
   "cell_type": "code",
   "execution_count": 24,
   "id": "4fc990e3-13db-4dd7-976f-fca430eb17d7",
   "metadata": {
    "execution": {
     "iopub.execute_input": "2024-06-05T04:34:11.215321Z",
     "iopub.status.busy": "2024-06-05T04:34:11.214985Z",
     "iopub.status.idle": "2024-06-05T04:34:11.229612Z",
     "shell.execute_reply": "2024-06-05T04:34:11.228737Z",
     "shell.execute_reply.started": "2024-06-05T04:34:11.215302Z"
    }
   },
   "outputs": [],
   "source": [
    "for seed in range(5):\n",
    "    for dataset, task in [\n",
    "        # classification\n",
    "        # (\"rel-amazon\", \"user-churn\"),\n",
    "        # (\"rel-amazon\", \"item-churn\"),\n",
    "        # (\"rel-f1\", \"driver-dnf\"),\n",
    "        # (\"rel-f1\", \"driver-top3\"),\n",
    "        # (\"rel-hm\", \"user-churn\"),\n",
    "        # (\"rel-stack\", \"user-engagement\"),\n",
    "        # (\"rel-stack\", \"user-badge\"),\n",
    "        # (\"rel-trial\", \"study-outcome\"),\n",
    "        # regression\n",
    "        # (\"rel-amazon\", \"user-ltv\"),\n",
    "        # (\"rel-amazon\", \"item-ltv\"),\n",
    "        # (\"rel-avito\", \"user-clicks\"),\n",
    "        # (\"rel-event\", \"user-attendance\"),\n",
    "        # (\"rel-f1\", \"driver-position\"),\n",
    "        # (\"rel-hm\", \"item-sales\"),\n",
    "        # (\"rel-stack\", \"post-votes\"),\n",
    "        (\"rel-trial\", \"study-adverse\"),\n",
    "        # (\"rel-trial\", \"site-success\"),\n",
    "    ]:\n",
    "        for script in [\n",
    "            \"gnn_node\",\n",
    "            # \"lightgbm_baseline\",\n",
    "            # \"lightgbm_gnn_features_node\",\n",
    "            # \"node_baseline\",\n",
    "        ]:\n",
    "            cmd = (\n",
    "                f\"OMP_NUM_THREADS=8\"\n",
    "                f\" python {script}.py\"\n",
    "                f\" --dataset {dataset}\"\n",
    "                f\" --task {task}\"\n",
    "                f\" --seed {seed}\"\n",
    "                f\" --roach_project {project}\"\n",
    "            )\n",
    "            roach.submit(queue, cmd)"
   ]
  },
  {
   "cell_type": "markdown",
   "id": "5de1c3a8-b7ed-435f-8c37-132a585cf218",
   "metadata": {},
   "source": [
    "# link tasks"
   ]
  },
  {
   "cell_type": "code",
   "execution_count": 21,
   "id": "56206512-d5f4-4a76-9261-4968c8b68428",
   "metadata": {
    "execution": {
     "iopub.execute_input": "2024-06-04T22:15:01.643329Z",
     "iopub.status.busy": "2024-06-04T22:15:01.642941Z",
     "iopub.status.idle": "2024-06-04T22:15:01.661621Z",
     "shell.execute_reply": "2024-06-04T22:15:01.660970Z",
     "shell.execute_reply.started": "2024-06-04T22:15:01.643302Z"
    }
   },
   "outputs": [],
   "source": [
    "for seed in range(5):\n",
    "    for dataset, task in [\n",
    "        (\"rel-amazon\", \"user-item-purchase\"),\n",
    "        (\"rel-amazon\", \"user-item-rate\"),\n",
    "        (\"rel-amazon\", \"user-item-review\"),\n",
    "        (\"rel-avito\", \"user-ad-click\"),\n",
    "        (\"rel-hm\", \"user-item-purchase\"),\n",
    "        (\"rel-stack\", \"user-post-comment\"),\n",
    "        (\"rel-stack\", \"post-post-related\"),\n",
    "        (\"rel-trial\", \"condition-sponsor-rec\"),\n",
    "        (\"rel-trial\", \"site-sponsor-rec\"),\n",
    "    ]:\n",
    "        for script in [\n",
    "            # \"gnn_link\",\n",
    "            # \"idgnn_link\",\n",
    "            # \"lightgbm_link_baseline\",\n",
    "            \"link_baseline\",\n",
    "        ]:\n",
    "            cmd = (\n",
    "                f\"OMP_NUM_THREADS=8\"\n",
    "                f\" python {script}.py\"\n",
    "                f\" --dataset {dataset}\"\n",
    "                f\" --task {task}\"\n",
    "                f\" --seed {seed}\"\n",
    "                f\" --roach_project {project}\"\n",
    "            )\n",
    "            roach.submit(queue, cmd)"
   ]
  },
  {
   "cell_type": "code",
   "execution_count": null,
   "id": "1795713d-76c1-4707-af46-9275801a1867",
   "metadata": {},
   "outputs": [],
   "source": []
  }
 ],
 "metadata": {
  "kernelspec": {
   "display_name": "Python 3 (ipykernel)",
   "language": "python",
   "name": "python3"
  },
  "language_info": {
   "codemirror_mode": {
    "name": "ipython",
    "version": 3
   },
   "file_extension": ".py",
   "mimetype": "text/x-python",
   "name": "python",
   "nbconvert_exporter": "python",
   "pygments_lexer": "ipython3",
   "version": "3.10.14"
  }
 },
 "nbformat": 4,
 "nbformat_minor": 5
}
