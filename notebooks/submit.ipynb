{
 "cells": [
  {
   "cell_type": "code",
   "execution_count": 1,
   "id": "1e1ca310-c81e-4a4e-b941-6b872028c755",
   "metadata": {
    "execution": {
     "iopub.execute_input": "2024-07-09T23:55:39.477087Z",
     "iopub.status.busy": "2024-07-09T23:55:39.476560Z",
     "iopub.status.idle": "2024-07-09T23:55:41.273059Z",
     "shell.execute_reply": "2024-07-09T23:55:41.272398Z",
     "shell.execute_reply.started": "2024-07-09T23:55:39.477052Z"
    }
   },
   "outputs": [],
   "source": [
    "import time\n",
    "from pathlib import Path\n",
    "\n",
    "import roach\n",
    "\n",
    "from relbench.base import TaskType\n",
    "from relbench.datasets import get_dataset_names\n",
    "from relbench.tasks import get_task, get_task_names"
   ]
  },
  {
   "cell_type": "code",
   "execution_count": 2,
   "id": "0924da13-3665-4232-ae07-060f4750d6ea",
   "metadata": {
    "execution": {
     "iopub.execute_input": "2024-07-09T23:55:41.273874Z",
     "iopub.status.busy": "2024-07-09T23:55:41.273651Z",
     "iopub.status.idle": "2024-07-09T23:55:41.292221Z",
     "shell.execute_reply": "2024-07-09T23:55:41.291707Z",
     "shell.execute_reply.started": "2024-07-09T23:55:41.273857Z"
    }
   },
   "outputs": [],
   "source": [
    "project = \"relbench/2024-07-05\"\n",
    "queue_gpu = \"relbench/2024-07-09_gpu\"\n",
    "queue_cpu = \"relbench/2024-07-09_cpu\""
   ]
  },
  {
   "cell_type": "code",
   "execution_count": 3,
   "id": "f5d584c3-8044-4525-9e5c-2a1da8212198",
   "metadata": {
    "execution": {
     "iopub.execute_input": "2024-07-09T23:55:41.294846Z",
     "iopub.status.busy": "2024-07-09T23:55:41.294621Z",
     "iopub.status.idle": "2024-07-09T23:55:41.424053Z",
     "shell.execute_reply": "2024-07-09T23:55:41.423555Z",
     "shell.execute_reply.started": "2024-07-09T23:55:41.294831Z"
    }
   },
   "outputs": [],
   "source": [
    "task_files = {}"
   ]
  },
  {
   "cell_type": "code",
   "execution_count": 4,
   "id": "0fea577d-7a45-48e3-8955-f0ef23df4341",
   "metadata": {
    "execution": {
     "iopub.execute_input": "2024-07-09T23:55:41.424632Z",
     "iopub.status.busy": "2024-07-09T23:55:41.424496Z",
     "iopub.status.idle": "2024-07-09T23:55:41.478034Z",
     "shell.execute_reply": "2024-07-09T23:55:41.476941Z",
     "shell.execute_reply.started": "2024-07-09T23:55:41.424618Z"
    }
   },
   "outputs": [],
   "source": [
    "def join(task_keys):\n",
    "    tests = []\n",
    "    for task_key in task_keys:\n",
    "        task_file = task_files[task_key]\n",
    "        task_file = task_file.replace(\"/ready/\", \"/done/\")\n",
    "        test = f\"test -f {task_file}\"\n",
    "        tests.append(test)\n",
    "    test = \" && \".join(tests)\n",
    "    return test"
   ]
  },
  {
   "cell_type": "markdown",
   "id": "7f355fc7-4dc1-4408-bc74-44724f0884b3",
   "metadata": {},
   "source": [
    "# download and cache materialized tensorframes"
   ]
  },
  {
   "cell_type": "code",
   "execution_count": 5,
   "id": "4a9227e4-466c-41eb-8f26-0d611eae6923",
   "metadata": {
    "execution": {
     "iopub.execute_input": "2024-07-06T07:16:07.122070Z",
     "iopub.status.busy": "2024-07-06T07:16:07.121895Z",
     "iopub.status.idle": "2024-07-06T07:16:07.155330Z",
     "shell.execute_reply": "2024-07-06T07:16:07.154425Z",
     "shell.execute_reply.started": "2024-07-06T07:16:07.122051Z"
    }
   },
   "outputs": [],
   "source": [
    "# clear current cache with backup\n",
    "ts = int(time.time())\n",
    "home = Path.home()\n",
    "try:\n",
    "    Path(f\"{home}/.cache/relbench\").rename(\n",
    "        f\"{home}/.cache/relbench.{ts}\"\n",
    "    )\n",
    "except FileNotFoundError:\n",
    "    pass"
   ]
  },
  {
   "cell_type": "code",
   "execution_count": 6,
   "id": "b14637cf-b27b-49b7-a3f6-99c8018633db",
   "metadata": {
    "execution": {
     "iopub.execute_input": "2024-07-06T07:16:07.432789Z",
     "iopub.status.busy": "2024-07-06T07:16:07.432423Z",
     "iopub.status.idle": "2024-07-06T07:16:07.466493Z",
     "shell.execute_reply": "2024-07-06T07:16:07.465669Z",
     "shell.execute_reply.started": "2024-07-06T07:16:07.432755Z"
    }
   },
   "outputs": [],
   "source": [
    "# clear current cache with backup\n",
    "ts = int(time.time())\n",
    "home = Path.home()\n",
    "try:\n",
    "    Path(f\"{home}/.cache/relbench_examples\").rename(\n",
    "        f\"{home}/.cache/relbench_examples.{ts}\"\n",
    "    )\n",
    "except FileNotFoundError:\n",
    "    pass"
   ]
  },
  {
   "cell_type": "code",
   "execution_count": 5,
   "id": "44f49283-3f04-449c-b7e3-d86bd3bd82aa",
   "metadata": {
    "execution": {
     "iopub.execute_input": "2024-07-09T23:55:59.384012Z",
     "iopub.status.busy": "2024-07-09T23:55:59.383533Z",
     "iopub.status.idle": "2024-07-09T23:55:59.425143Z",
     "shell.execute_reply": "2024-07-09T23:55:59.424077Z",
     "shell.execute_reply.started": "2024-07-09T23:55:59.383971Z"
    }
   },
   "outputs": [],
   "source": [
    "for dataset in get_dataset_names():\n",
    "    ############## TODO: remove\n",
    "    if dataset != \"rel-amazon\":\n",
    "        continue\n",
    "    ###########################\n",
    "    task = get_task_names(dataset)[0]\n",
    "    task_obj = get_task(dataset, task)\n",
    "    if task_obj.task_type.value == TaskType.LINK_PREDICTION.value:\n",
    "        script = \"gnn_link\"\n",
    "    else:\n",
    "        script = \"gnn_node\"\n",
    "    # epochs=0 throws exception\n",
    "    cmd = f\"python {script}.py --dataset {dataset} --task {task} --epochs 1\"\n",
    "    task_files[f\"prep_dataset/{dataset}\"] = roach.submit(queue_gpu, cmd)"
   ]
  },
  {
   "cell_type": "code",
   "execution_count": 6,
   "id": "3879891f-4aeb-4eb0-91ae-ed30099a8384",
   "metadata": {
    "execution": {
     "iopub.execute_input": "2024-07-09T23:56:02.294090Z",
     "iopub.status.busy": "2024-07-09T23:56:02.293401Z",
     "iopub.status.idle": "2024-07-09T23:56:02.327515Z",
     "shell.execute_reply": "2024-07-09T23:56:02.326956Z",
     "shell.execute_reply.started": "2024-07-09T23:56:02.294064Z"
    }
   },
   "outputs": [],
   "source": [
    "# download all tasks beforehand\n",
    "for dataset in get_dataset_names():\n",
    "    ############## TODO: remove\n",
    "    if dataset != \"rel-amazon\":\n",
    "        continue\n",
    "    ###########################\n",
    "    for task in get_task_names(dataset):\n",
    "        py_cmd = (\n",
    "            f\"from relbench.tasks import download_task; \"\n",
    "            f'download_task(\"{dataset}\", \"{task}\")'\n",
    "        )\n",
    "        assert \"'\" not in py_cmd\n",
    "        cmd = f\"python -c '{py_cmd}'\"\n",
    "        task_files[f\"prep_task/{dataset}/{task}\"] = roach.submit(queue_cpu, cmd)"
   ]
  },
  {
   "cell_type": "markdown",
   "id": "57a480db-bfc8-4e3e-a9c2-e677ede7321d",
   "metadata": {},
   "source": [
    "# training runs"
   ]
  },
  {
   "cell_type": "code",
   "execution_count": 7,
   "id": "4fc990e3-13db-4dd7-976f-fca430eb17d7",
   "metadata": {
    "execution": {
     "iopub.execute_input": "2024-07-09T23:56:04.177206Z",
     "iopub.status.busy": "2024-07-09T23:56:04.176841Z",
     "iopub.status.idle": "2024-07-09T23:56:04.211331Z",
     "shell.execute_reply": "2024-07-09T23:56:04.210771Z",
     "shell.execute_reply.started": "2024-07-09T23:56:04.177188Z"
    }
   },
   "outputs": [],
   "source": [
    "for seed in range(5):\n",
    "    for dataset in get_dataset_names():\n",
    "        ############## TODO: remove\n",
    "        if dataset != \"rel-amazon\":\n",
    "            continue\n",
    "        ###########################\n",
    "        for task in get_task_names(dataset):\n",
    "            task_obj = get_task(dataset, task)\n",
    "            if task_obj.task_type.value == TaskType.LINK_PREDICTION.value:\n",
    "                scripts = [\n",
    "                    \"gnn_link\",\n",
    "                    \"idgnn_link\",\n",
    "                    \"lightgbm_link\",\n",
    "                    \"baseline_link\",\n",
    "                ]\n",
    "            else:\n",
    "                scripts = [\n",
    "                    \"gnn_node\",\n",
    "                    \"lightgbm_node\",\n",
    "                    \"hybrid_node\",\n",
    "                    \"baseline_node\",\n",
    "                ]\n",
    "            for script in scripts:\n",
    "                cmd = (\n",
    "                    f\"OMP_NUM_THREADS=8\"\n",
    "                    f\" python {script}.py\"\n",
    "                    f\" --dataset {dataset}\"\n",
    "                    f\" --task {task}\"\n",
    "                    f\" --seed {seed}\"\n",
    "                    f\" --roach_project {project}\"\n",
    "                )\n",
    "                if dataset == \"rel-trial\":\n",
    "                    if script == \"gnn_node\":\n",
    "                        cmd += f\" --epochs 20\"\n",
    "                        if task_obj.task_type.value in [\n",
    "                            TaskType.BINARY_CLASSIFICATION.value,\n",
    "                            TaskType.MULTICLASS_CLASSIFICATION.value,\n",
    "                        ]:\n",
    "                            cmd += f\" --lr 0.0001\"\n",
    "                            cmd += f\" --num_neighbors 64\"\n",
    "                            cmd += f\" --aggr mean\"\n",
    "                        elif task_obj.task_type.value == TaskType.REGRESSION.value:\n",
    "                            cmd += f\" --lr 0.01\"\n",
    "                    elif script == \"idgnn_link\":\n",
    "                        cmd += f\" --num_layers 4\"\n",
    "                requires = join([f\"prep_dataset/{dataset}\", f\"prep_task/{dataset}/{task}\"])\n",
    "                if script in [\"gnn_link\", \"idgnn_link\", \"gnn_node\", \"hybrid_node\"]:\n",
    "                    queue = queue_gpu\n",
    "                elif script in [\"lightgbm_link\", \"lightgbm_node\", \"baseline_link\", \"baseline_node\"]:\n",
    "                    queue = queue_cpu\n",
    "                roach.submit(queue, cmd, requires)"
   ]
  },
  {
   "cell_type": "code",
   "execution_count": null,
   "id": "e872a8b5-528a-4a93-a300-c3d9a0bad7c9",
   "metadata": {},
   "outputs": [],
   "source": []
  }
 ],
 "metadata": {
  "kernelspec": {
   "display_name": "Python 3 (ipykernel)",
   "language": "python",
   "name": "python3"
  },
  "language_info": {
   "codemirror_mode": {
    "name": "ipython",
    "version": 3
   },
   "file_extension": ".py",
   "mimetype": "text/x-python",
   "name": "python",
   "nbconvert_exporter": "python",
   "pygments_lexer": "ipython3",
   "version": "3.8.19"
  }
 },
 "nbformat": 4,
 "nbformat_minor": 5
}
