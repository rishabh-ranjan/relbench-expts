{
 "cells": [
  {
   "cell_type": "code",
   "execution_count": 1,
   "id": "1e1ca310-c81e-4a4e-b941-6b872028c755",
   "metadata": {
    "execution": {
     "iopub.execute_input": "2024-07-30T06:06:08.484285Z",
     "iopub.status.busy": "2024-07-30T06:06:08.483859Z",
     "iopub.status.idle": "2024-07-30T06:06:10.194680Z",
     "shell.execute_reply": "2024-07-30T06:06:10.193833Z",
     "shell.execute_reply.started": "2024-07-30T06:06:08.484247Z"
    }
   },
   "outputs": [],
   "source": [
    "import time\n",
    "from pathlib import Path\n",
    "\n",
    "import roach\n",
    "from relbench.base import TaskType\n",
    "from relbench.datasets import get_dataset_names\n",
    "from relbench.tasks import get_task, get_task_names"
   ]
  },
  {
   "cell_type": "code",
   "execution_count": 2,
   "id": "0924da13-3665-4232-ae07-060f4750d6ea",
   "metadata": {
    "execution": {
     "iopub.execute_input": "2024-07-30T06:06:12.974828Z",
     "iopub.status.busy": "2024-07-30T06:06:12.974389Z",
     "iopub.status.idle": "2024-07-30T06:06:13.006066Z",
     "shell.execute_reply": "2024-07-30T06:06:13.004909Z",
     "shell.execute_reply.started": "2024-07-30T06:06:12.974812Z"
    }
   },
   "outputs": [],
   "source": [
    "project = \"relbench/2024-07-29\"\n",
    "queue_gpu = \"relbench/2024-07-29_gpu\"\n",
    "queue_cpu = \"relbench/2024-07-29_cpu\""
   ]
  },
  {
   "cell_type": "code",
   "execution_count": 3,
   "id": "f5d584c3-8044-4525-9e5c-2a1da8212198",
   "metadata": {
    "execution": {
     "iopub.execute_input": "2024-07-30T06:06:14.208871Z",
     "iopub.status.busy": "2024-07-30T06:06:14.208393Z",
     "iopub.status.idle": "2024-07-30T06:06:14.247336Z",
     "shell.execute_reply": "2024-07-30T06:06:14.246249Z",
     "shell.execute_reply.started": "2024-07-30T06:06:14.208831Z"
    }
   },
   "outputs": [],
   "source": [
    "task_files = {}"
   ]
  },
  {
   "cell_type": "code",
   "execution_count": 4,
   "id": "0fea577d-7a45-48e3-8955-f0ef23df4341",
   "metadata": {
    "execution": {
     "iopub.execute_input": "2024-07-30T06:06:17.072856Z",
     "iopub.status.busy": "2024-07-30T06:06:17.072436Z",
     "iopub.status.idle": "2024-07-30T06:06:17.115329Z",
     "shell.execute_reply": "2024-07-30T06:06:17.114189Z",
     "shell.execute_reply.started": "2024-07-30T06:06:17.072819Z"
    }
   },
   "outputs": [],
   "source": [
    "def join(task_keys):\n",
    "    tests = []\n",
    "    for task_key in task_keys:\n",
    "        task_file = task_files[task_key]\n",
    "        task_file = task_file.replace(\"/ready/\", \"/done/\")\n",
    "        test = f\"test -f {task_file}\"\n",
    "        tests.append(test)\n",
    "    test = \" && \".join(tests)\n",
    "    return test"
   ]
  },
  {
   "cell_type": "markdown",
   "id": "57a480db-bfc8-4e3e-a9c2-e677ede7321d",
   "metadata": {},
   "source": [
    "# training runs"
   ]
  },
  {
   "cell_type": "code",
   "execution_count": 5,
   "id": "4fc990e3-13db-4dd7-976f-fca430eb17d7",
   "metadata": {
    "execution": {
     "iopub.execute_input": "2024-07-30T06:06:57.231956Z",
     "iopub.status.busy": "2024-07-30T06:06:57.231500Z",
     "iopub.status.idle": "2024-07-30T06:06:57.327001Z",
     "shell.execute_reply": "2024-07-30T06:06:57.326429Z",
     "shell.execute_reply.started": "2024-07-30T06:06:57.231918Z"
    }
   },
   "outputs": [],
   "source": [
    "for seed in range(5):\n",
    "    for dataset in get_dataset_names():\n",
    "        for task in get_task_names(dataset):\n",
    "            task_obj = get_task(dataset, task)\n",
    "            if task_obj.task_type.value == TaskType.LINK_PREDICTION.value:\n",
    "                continue\n",
    "\n",
    "            script = \"gnn_node\"\n",
    "            for include_label_tables in [\n",
    "                \"all\",\n",
    "                \"task_only\",\n",
    "                \"none\",\n",
    "            ]:\n",
    "                cmd = (\n",
    "                    f\"OMP_NUM_THREADS=8\"\n",
    "                    f\" python {script}.py\"\n",
    "                    f\" --dataset {dataset}\"\n",
    "                    f\" --task {task}\"\n",
    "                    f\" --seed {seed}\"\n",
    "                    f\" --roach_project {project}\"\n",
    "                    f\" --include_label_tables {include_label_tables}\"\n",
    "                )\n",
    "                roach.submit(queue_gpu, cmd)\n",
    "                \n",
    "            script = \"lightgbm_node\"\n",
    "            for use_ar_label_flag in [\n",
    "                \"--use_ar_label\",\n",
    "                \"--no-use_ar_label\",\n",
    "            ]:\n",
    "                cmd = (\n",
    "                    f\"OMP_NUM_THREADS=8\"\n",
    "                    f\" python {script}.py\"\n",
    "                    f\" --dataset {dataset}\"\n",
    "                    f\" --task {task}\"\n",
    "                    f\" --seed {seed}\"\n",
    "                    f\" --roach_project {project}\"\n",
    "                    f\" {use_ar_label_flag}\"\n",
    "                )\n",
    "                roach.submit(queue_cpu, cmd)"
   ]
  },
  {
   "cell_type": "code",
   "execution_count": null,
   "id": "e872a8b5-528a-4a93-a300-c3d9a0bad7c9",
   "metadata": {},
   "outputs": [],
   "source": []
  }
 ],
 "metadata": {
  "kernelspec": {
   "display_name": "Python 3 (ipykernel)",
   "language": "python",
   "name": "python3"
  },
  "language_info": {
   "codemirror_mode": {
    "name": "ipython",
    "version": 3
   },
   "file_extension": ".py",
   "mimetype": "text/x-python",
   "name": "python",
   "nbconvert_exporter": "python",
   "pygments_lexer": "ipython3",
   "version": "3.8.19"
  }
 },
 "nbformat": 4,
 "nbformat_minor": 5
}
