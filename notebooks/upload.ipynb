{
 "cells": [
  {
   "cell_type": "markdown",
   "id": "268193ef-d1ca-4d17-b2dc-3a36d269e593",
   "metadata": {},
   "source": [
    "# "
   ]
  },
  {
   "cell_type": "code",
   "execution_count": 24,
   "id": "1b39b3ea-3d26-49af-8a2d-293ac9088c36",
   "metadata": {
    "execution": {
     "iopub.execute_input": "2024-07-01T00:40:35.226401Z",
     "iopub.status.busy": "2024-07-01T00:40:35.226130Z",
     "iopub.status.idle": "2024-07-01T00:40:35.269596Z",
     "shell.execute_reply": "2024-07-01T00:40:35.268580Z",
     "shell.execute_reply.started": "2024-07-01T00:40:35.226385Z"
    }
   },
   "outputs": [],
   "source": [
    "import time\n",
    "from pathlib import Path\n",
    "\n",
    "import roach\n",
    "\n",
    "from relbench.datasets import get_dataset, get_dataset_names\n",
    "from relbench.tasks import get_task, get_task_names"
   ]
  },
  {
   "cell_type": "code",
   "execution_count": 8,
   "id": "646f7599-c060-40fd-aa3d-e8ada8d0aecd",
   "metadata": {
    "execution": {
     "iopub.execute_input": "2024-06-30T23:19:11.621068Z",
     "iopub.status.busy": "2024-06-30T23:19:11.620623Z",
     "iopub.status.idle": "2024-06-30T23:19:11.639472Z",
     "shell.execute_reply": "2024-06-30T23:19:11.638816Z",
     "shell.execute_reply.started": "2024-06-30T23:19:11.621033Z"
    }
   },
   "outputs": [
    {
     "data": {
      "text/plain": [
       "PosixPath('/afs/cs.stanford.edu/u/ranjanr/.cache/relbench.1719789551')"
      ]
     },
     "execution_count": 8,
     "metadata": {},
     "output_type": "execute_result"
    }
   ],
   "source": [
    "# clear current cache with backup\n",
    "ts = int(time.time())\n",
    "home = Path.home()\n",
    "Path(f\"{home}/.cache/relbench\").rename(f\"{home}/.cache/relbench.{ts}\")"
   ]
  },
  {
   "cell_type": "code",
   "execution_count": 13,
   "id": "4f5998ba-35ff-44f0-87ca-2ffb35f55b91",
   "metadata": {
    "execution": {
     "iopub.execute_input": "2024-06-30T23:40:08.399851Z",
     "iopub.status.busy": "2024-06-30T23:40:08.399418Z",
     "iopub.status.idle": "2024-06-30T23:40:08.443619Z",
     "shell.execute_reply": "2024-06-30T23:40:08.442592Z",
     "shell.execute_reply.started": "2024-06-30T23:40:08.399816Z"
    }
   },
   "outputs": [],
   "source": [
    "queue = \"relbench/2024-06-30\""
   ]
  },
  {
   "cell_type": "code",
   "execution_count": null,
   "id": "54dcff0b-34d5-4788-a53e-fbf93903bd14",
   "metadata": {
    "execution": {
     "iopub.execute_input": "2024-07-01T00:33:36.057019Z",
     "iopub.status.busy": "2024-07-01T00:33:36.056548Z",
     "iopub.status.idle": "2024-07-01T00:33:36.102342Z",
     "shell.execute_reply": "2024-07-01T00:33:36.101231Z",
     "shell.execute_reply.started": "2024-07-01T00:33:36.056983Z"
    }
   },
   "outputs": [],
   "source": [
    "cmd = (\n",
    "    \"kaggle competitions download -c h-and-m-personalized-fashion-recommendations && \"\n",
    "    \"mkdir -p data/hm-recommendation && \"\n",
    "    \"mv h-and-m-personalized-fashion-recommendations.zip data/hm-recommendation\"\n",
    ")\n",
    "roach.submit(queue, cmd)"
   ]
  },
  {
   "cell_type": "code",
   "execution_count": 11,
   "id": "74bdd88c-be4f-480f-b252-316d908aa085",
   "metadata": {
    "execution": {
     "iopub.execute_input": "2024-06-30T23:35:03.695952Z",
     "iopub.status.busy": "2024-06-30T23:35:03.695555Z",
     "iopub.status.idle": "2024-06-30T23:35:03.736741Z",
     "shell.execute_reply": "2024-06-30T23:35:03.735918Z",
     "shell.execute_reply.started": "2024-06-30T23:35:03.695935Z"
    }
   },
   "outputs": [
    {
     "data": {
      "text/plain": [
       "['rel-amazon',\n",
       " 'rel-avito',\n",
       " 'rel-event',\n",
       " 'rel-f1',\n",
       " 'rel-hm',\n",
       " 'rel-stack',\n",
       " 'rel-trial']"
      ]
     },
     "execution_count": 11,
     "metadata": {},
     "output_type": "execute_result"
    }
   ],
   "source": [
    "get_dataset_names()"
   ]
  },
  {
   "cell_type": "code",
   "execution_count": 52,
   "id": "62c28370-cea9-4bd9-bf8d-b14b23c3b828",
   "metadata": {
    "execution": {
     "iopub.execute_input": "2024-07-01T06:26:45.463776Z",
     "iopub.status.busy": "2024-07-01T06:26:45.463485Z",
     "iopub.status.idle": "2024-07-01T06:26:45.490101Z",
     "shell.execute_reply": "2024-07-01T06:26:45.489558Z",
     "shell.execute_reply.started": "2024-07-01T06:26:45.463750Z"
    }
   },
   "outputs": [],
   "source": [
    "for dataset_name in [\n",
    "    # \"rel-amazon\",\n",
    "    \"rel-avito\",\n",
    "    # \"rel-event\",\n",
    "    # \"rel-f1\",\n",
    "    # \"rel-hm\",\n",
    "    # \"rel-stack\",\n",
    "    # \"rel-trial\",\n",
    "]:\n",
    "    py_cmd = (\n",
    "        f\"from relbench.datasets import get_dataset; \"\n",
    "        f'get_dataset(\"{dataset_name}\", download=False).get_db()'\n",
    "    )\n",
    "    cmd = f\"python -c '{py_cmd}'\"\n",
    "    if dataset_name == \"rel-hm\":\n",
    "        requires = \"test -f data/hm-recommendation/h-and-m-personalized-fashion-recommendations.zip\"\n",
    "    else:\n",
    "        requires = \"true\"\n",
    "    roach.submit(queue, cmd, requires)"
   ]
  },
  {
   "cell_type": "code",
   "execution_count": 25,
   "id": "60142d6f-1e45-4f3b-a728-bf968fc02793",
   "metadata": {
    "execution": {
     "iopub.execute_input": "2024-07-01T00:40:38.554470Z",
     "iopub.status.busy": "2024-07-01T00:40:38.554071Z",
     "iopub.status.idle": "2024-07-01T00:40:38.595249Z",
     "shell.execute_reply": "2024-07-01T00:40:38.594350Z",
     "shell.execute_reply.started": "2024-07-01T00:40:38.554437Z"
    }
   },
   "outputs": [
    {
     "name": "stdout",
     "output_type": "stream",
     "text": [
      "[('rel-amazon', 'user-churn'), ('rel-amazon', 'user-ltv'), ('rel-amazon', 'item-churn'), ('rel-amazon', 'item-ltv'), ('rel-amazon', 'user-item-purchase'), ('rel-amazon', 'user-item-rate'), ('rel-amazon', 'user-item-review'), ('rel-avito', 'ads-clicks'), ('rel-avito', 'user-visits'), ('rel-avito', 'user-clicks'), ('rel-avito', 'user-ad-visit'), ('rel-event', 'user-attendance'), ('rel-event', 'user-repeat'), ('rel-event', 'user-ignore'), ('rel-f1', 'driver-position'), ('rel-f1', 'driver-dnf'), ('rel-f1', 'driver-top3'), ('rel-f1', 'driver-constructor-result'), ('rel-hm', 'user-item-purchase'), ('rel-hm', 'user-churn'), ('rel-hm', 'item-sales'), ('rel-stack', 'user-engagement'), ('rel-stack', 'post-votes'), ('rel-stack', 'user-badge'), ('rel-stack', 'user-post-comment'), ('rel-stack', 'post-post-related'), ('rel-trial', 'study-outcome'), ('rel-trial', 'study-adverse'), ('rel-trial', 'study-withdrawal'), ('rel-trial', 'site-success'), ('rel-trial', 'condition-sponsor-run'), ('rel-trial', 'site-sponsor-run')]\n"
     ]
    }
   ],
   "source": [
    "pairs = []\n",
    "for dataset_name in get_dataset_names():\n",
    "    for task_name in get_task_names(dataset_name):\n",
    "        pairs.append((dataset_name, task_name))\n",
    "print(pairs)"
   ]
  },
  {
   "cell_type": "code",
   "execution_count": 26,
   "id": "e943400b-7bf8-4a7b-a84a-1a07371ff2ee",
   "metadata": {
    "execution": {
     "iopub.execute_input": "2024-07-01T00:43:40.874916Z",
     "iopub.status.busy": "2024-07-01T00:43:40.874466Z",
     "iopub.status.idle": "2024-07-01T00:43:40.927134Z",
     "shell.execute_reply": "2024-07-01T00:43:40.926004Z",
     "shell.execute_reply.started": "2024-07-01T00:43:40.874880Z"
    }
   },
   "outputs": [],
   "source": [
    "for dataset_name, task_name in [\n",
    "    (\"rel-amazon\", \"user-churn\"),\n",
    "    (\"rel-amazon\", \"user-ltv\"),\n",
    "    (\"rel-amazon\", \"item-churn\"),\n",
    "    (\"rel-amazon\", \"item-ltv\"),\n",
    "    (\"rel-amazon\", \"user-item-purchase\"),\n",
    "    (\"rel-amazon\", \"user-item-rate\"),\n",
    "    (\"rel-amazon\", \"user-item-review\"),\n",
    "    (\"rel-avito\", \"ads-clicks\"),\n",
    "    (\"rel-avito\", \"user-visits\"),\n",
    "    (\"rel-avito\", \"user-clicks\"),\n",
    "    (\"rel-avito\", \"user-ad-visit\"),\n",
    "    (\"rel-event\", \"user-attendance\"),\n",
    "    (\"rel-event\", \"user-repeat\"),\n",
    "    (\"rel-event\", \"user-ignore\"),\n",
    "    (\"rel-f1\", \"driver-position\"),\n",
    "    (\"rel-f1\", \"driver-dnf\"),\n",
    "    (\"rel-f1\", \"driver-top3\"),\n",
    "    (\"rel-hm\", \"user-item-purchase\"),\n",
    "    (\"rel-hm\", \"user-churn\"),\n",
    "    (\"rel-hm\", \"item-sales\"),\n",
    "    (\"rel-stack\", \"user-engagement\"),\n",
    "    (\"rel-stack\", \"post-votes\"),\n",
    "    (\"rel-stack\", \"user-badge\"),\n",
    "    (\"rel-stack\", \"user-post-comment\"),\n",
    "    (\"rel-stack\", \"post-post-related\"),\n",
    "    (\"rel-trial\", \"study-outcome\"),\n",
    "    (\"rel-trial\", \"study-adverse\"),\n",
    "    (\"rel-trial\", \"study-withdrawal\"),\n",
    "    (\"rel-trial\", \"site-success\"),\n",
    "    (\"rel-trial\", \"condition-sponsor-run\"),\n",
    "    (\"rel-trial\", \"site-sponsor-run\"),\n",
    "]:\n",
    "    py_cmd = (\n",
    "        f\"from relbench.tasks import get_task; \"\n",
    "        f'task = get_task(\"{dataset_name}\", \"{task_name}\", download=False); '\n",
    "        f'task.get_table(\"train\"); '\n",
    "        f'task.get_table(\"val\"); '\n",
    "        f'task.get_table(\"test\")'\n",
    "    )\n",
    "    cmd = f\"python -c '{py_cmd}'\"\n",
    "    # TODO: add requires for dataset existence\n",
    "    roach.submit(queue, cmd)"
   ]
  },
  {
   "cell_type": "code",
   "execution_count": 37,
   "id": "126f058c-8a42-4436-828f-6d07375a2100",
   "metadata": {
    "execution": {
     "iopub.execute_input": "2024-07-01T04:50:03.697750Z",
     "iopub.status.busy": "2024-07-01T04:50:03.697270Z",
     "iopub.status.idle": "2024-07-01T04:50:03.751500Z",
     "shell.execute_reply": "2024-07-01T04:50:03.750435Z",
     "shell.execute_reply.started": "2024-07-01T04:50:03.697711Z"
    }
   },
   "outputs": [],
   "source": [
    "for dataset_name in [\n",
    "    \"rel-amazon\",\n",
    "    # \"rel-avito\",\n",
    "    \"rel-event\",\n",
    "    \"rel-f1\",\n",
    "    \"rel-hm\",\n",
    "    \"rel-stack\",\n",
    "    \"rel-trial\",\n",
    "]:\n",
    "    cmd = (\n",
    "        f\"mkdir -p ~/.cache/relbench_upload/{dataset_name} && \"\n",
    "        f\"zip -r ~/.cache/relbench_upload/{dataset_name}/db ~/.cache/relbench/{dataset_name}/db\"\n",
    "    )\n",
    "    requires = f\"test -d ~/.cache/relbench/{dataset_name}/db\"\n",
    "    roach.submit(queue, cmd, requires)"
   ]
  },
  {
   "cell_type": "code",
   "execution_count": 40,
   "id": "fff6402f-5ed0-4cf7-ae55-16b8b5f23e55",
   "metadata": {
    "execution": {
     "iopub.execute_input": "2024-07-01T04:56:08.697399Z",
     "iopub.status.busy": "2024-07-01T04:56:08.696940Z",
     "iopub.status.idle": "2024-07-01T04:56:08.749052Z",
     "shell.execute_reply": "2024-07-01T04:56:08.748015Z",
     "shell.execute_reply.started": "2024-07-01T04:56:08.697364Z"
    }
   },
   "outputs": [],
   "source": [
    "for dataset_name, task_name in [\n",
    "    (\"rel-amazon\", \"user-churn\"),\n",
    "    (\"rel-amazon\", \"user-ltv\"),\n",
    "    (\"rel-amazon\", \"item-churn\"),\n",
    "    (\"rel-amazon\", \"item-ltv\"),\n",
    "    (\"rel-amazon\", \"user-item-purchase\"),\n",
    "    (\"rel-amazon\", \"user-item-rate\"),\n",
    "    (\"rel-amazon\", \"user-item-review\"),\n",
    "    # (\"rel-avito\", \"ads-clicks\"),\n",
    "    # (\"rel-avito\", \"user-visits\"),\n",
    "    # (\"rel-avito\", \"user-clicks\"),\n",
    "    # (\"rel-avito\", \"user-ad-visit\"),\n",
    "    (\"rel-event\", \"user-attendance\"),\n",
    "    (\"rel-event\", \"user-repeat\"),\n",
    "    (\"rel-event\", \"user-ignore\"),\n",
    "    (\"rel-f1\", \"driver-position\"),\n",
    "    (\"rel-f1\", \"driver-dnf\"),\n",
    "    (\"rel-f1\", \"driver-top3\"),\n",
    "    (\"rel-hm\", \"user-item-purchase\"),\n",
    "    (\"rel-hm\", \"user-churn\"),\n",
    "    (\"rel-hm\", \"item-sales\"),\n",
    "    (\"rel-stack\", \"user-engagement\"),\n",
    "    (\"rel-stack\", \"post-votes\"),\n",
    "    (\"rel-stack\", \"user-badge\"),\n",
    "    (\"rel-stack\", \"user-post-comment\"),\n",
    "    (\"rel-stack\", \"post-post-related\"),\n",
    "    (\"rel-trial\", \"study-outcome\"),\n",
    "    (\"rel-trial\", \"study-adverse\"),\n",
    "    (\"rel-trial\", \"study-withdrawal\"),\n",
    "    (\"rel-trial\", \"site-success\"),\n",
    "    (\"rel-trial\", \"condition-sponsor-run\"),\n",
    "    (\"rel-trial\", \"site-sponsor-run\"),\n",
    "]:\n",
    "    cmd = (\n",
    "        f\"mkdir -p ~/.cache/relbench_upload/{dataset_name}/tasks && \"\n",
    "        f\"zip -r ~/.cache/relbench_upload/{dataset_name}/tasks/{task_name} ~/.cache/relbench/{dataset_name}/tasks/{task_name}\"\n",
    "    )\n",
    "    requires = f\"test -d ~/.cache/relbench/{dataset_name}/tasks/{task_name}\"\n",
    "    roach.submit(queue, cmd, requires)"
   ]
  },
  {
   "cell_type": "markdown",
   "id": "b57bb657-bec2-43cf-a998-0c8627c82a6a",
   "metadata": {
    "execution": {
     "iopub.execute_input": "2024-07-01T05:15:43.297222Z",
     "iopub.status.busy": "2024-07-01T05:15:43.296774Z",
     "iopub.status.idle": "2024-07-01T05:15:43.330544Z",
     "shell.execute_reply": "2024-07-01T05:15:43.329814Z",
     "shell.execute_reply.started": "2024-07-01T05:15:43.297187Z"
    }
   },
   "source": [
    "wait for all zip tasks to finish"
   ]
  },
  {
   "cell_type": "code",
   "execution_count": 44,
   "id": "c4a3a691-c34d-4847-bcc1-820ed647f7d2",
   "metadata": {
    "execution": {
     "iopub.execute_input": "2024-07-01T05:37:13.572914Z",
     "iopub.status.busy": "2024-07-01T05:37:13.571987Z",
     "iopub.status.idle": "2024-07-01T05:37:13.667151Z",
     "shell.execute_reply": "2024-07-01T05:37:13.664249Z",
     "shell.execute_reply.started": "2024-07-01T05:37:13.572884Z"
    }
   },
   "outputs": [],
   "source": [
    "tests = []\n",
    "for dataset_name in [\n",
    "    \"rel-amazon\",\n",
    "    # \"rel-avito\",\n",
    "    \"rel-event\",\n",
    "    \"rel-f1\",\n",
    "    \"rel-hm\",\n",
    "    \"rel-stack\",\n",
    "    \"rel-trial\",\n",
    "]:\n",
    "    test = f\"test -f ~/.cache/relbench_upload/{dataset_name}/db.zip\"\n",
    "    tests.append(test)\n",
    "requires = \" && \".join(tests)\n",
    "cmd = f\"python -c 'import utils; utils.db_hashes()'\"\n",
    "roach.submit(queue, cmd, requires)"
   ]
  },
  {
   "cell_type": "code",
   "execution_count": 49,
   "id": "d4176f75-c669-4ac4-8868-20b330c41a1f",
   "metadata": {
    "execution": {
     "iopub.execute_input": "2024-07-01T05:51:47.506533Z",
     "iopub.status.busy": "2024-07-01T05:51:47.506086Z",
     "iopub.status.idle": "2024-07-01T05:51:47.553873Z",
     "shell.execute_reply": "2024-07-01T05:51:47.553332Z",
     "shell.execute_reply.started": "2024-07-01T05:51:47.506511Z"
    }
   },
   "outputs": [],
   "source": [
    "tests = []\n",
    "for dataset_name, task_name in [\n",
    "    (\"rel-amazon\", \"user-churn\"),\n",
    "    (\"rel-amazon\", \"user-ltv\"),\n",
    "    (\"rel-amazon\", \"item-churn\"),\n",
    "    (\"rel-amazon\", \"item-ltv\"),\n",
    "    (\"rel-amazon\", \"user-item-purchase\"),\n",
    "    (\"rel-amazon\", \"user-item-rate\"),\n",
    "    (\"rel-amazon\", \"user-item-review\"),\n",
    "    # (\"rel-avito\", \"ads-clicks\"),\n",
    "    # (\"rel-avito\", \"user-visits\"),\n",
    "    # (\"rel-avito\", \"user-clicks\"),\n",
    "    # (\"rel-avito\", \"user-ad-visit\"),\n",
    "    (\"rel-event\", \"user-attendance\"),\n",
    "    (\"rel-event\", \"user-repeat\"),\n",
    "    (\"rel-event\", \"user-ignore\"),\n",
    "    (\"rel-f1\", \"driver-position\"),\n",
    "    (\"rel-f1\", \"driver-dnf\"),\n",
    "    (\"rel-f1\", \"driver-top3\"),\n",
    "    (\"rel-hm\", \"user-item-purchase\"),\n",
    "    (\"rel-hm\", \"user-churn\"),\n",
    "    (\"rel-hm\", \"item-sales\"),\n",
    "    (\"rel-stack\", \"user-engagement\"),\n",
    "    (\"rel-stack\", \"post-votes\"),\n",
    "    (\"rel-stack\", \"user-badge\"),\n",
    "    (\"rel-stack\", \"user-post-comment\"),\n",
    "    (\"rel-stack\", \"post-post-related\"),\n",
    "    (\"rel-trial\", \"study-outcome\"),\n",
    "    (\"rel-trial\", \"study-adverse\"),\n",
    "    (\"rel-trial\", \"study-withdrawal\"),\n",
    "    (\"rel-trial\", \"site-success\"),\n",
    "    (\"rel-trial\", \"condition-sponsor-run\"),\n",
    "    (\"rel-trial\", \"site-sponsor-run\"),\n",
    "]:\n",
    "    test = f\"test -f ~/.cache/relbench_upload/{dataset_name}/tasks/{task_name}.zip\"\n",
    "    tests.append(test)\n",
    "requires = \" && \".join(tests)\n",
    "cmd = f\"python -c 'import utils; utils.task_hashes()'\"\n",
    "roach.submit(queue, cmd, requires)"
   ]
  },
  {
   "cell_type": "code",
   "execution_count": null,
   "id": "c3dbdbf5-82a3-48a4-aa88-9701792472a9",
   "metadata": {},
   "outputs": [],
   "source": []
  },
  {
   "cell_type": "code",
   "execution_count": null,
   "id": "4b7b52f7-38ce-4d19-aea5-bce92eba77c9",
   "metadata": {},
   "outputs": [],
   "source": []
  }
 ],
 "metadata": {
  "kernelspec": {
   "display_name": "Python 3 (ipykernel)",
   "language": "python",
   "name": "python3"
  },
  "language_info": {
   "codemirror_mode": {
    "name": "ipython",
    "version": 3
   },
   "file_extension": ".py",
   "mimetype": "text/x-python",
   "name": "python",
   "nbconvert_exporter": "python",
   "pygments_lexer": "ipython3",
   "version": "3.10.14"
  }
 },
 "nbformat": 4,
 "nbformat_minor": 5
}
