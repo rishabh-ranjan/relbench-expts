{
 "cells": [
  {
   "cell_type": "code",
   "execution_count": 24,
   "id": "1b39b3ea-3d26-49af-8a2d-293ac9088c36",
   "metadata": {
    "execution": {
     "iopub.execute_input": "2024-07-01T00:40:35.226401Z",
     "iopub.status.busy": "2024-07-01T00:40:35.226130Z",
     "iopub.status.idle": "2024-07-01T00:40:35.269596Z",
     "shell.execute_reply": "2024-07-01T00:40:35.268580Z",
     "shell.execute_reply.started": "2024-07-01T00:40:35.226385Z"
    }
   },
   "outputs": [],
   "source": [
    "import time\n",
    "from pathlib import Path\n",
    "\n",
    "import roach\n",
    "\n",
    "from relbench.datasets import get_dataset, get_dataset_names\n",
    "from relbench.tasks import get_task, get_task_names"
   ]
  },
  {
   "cell_type": "code",
   "execution_count": 8,
   "id": "646f7599-c060-40fd-aa3d-e8ada8d0aecd",
   "metadata": {
    "execution": {
     "iopub.execute_input": "2024-06-30T23:19:11.621068Z",
     "iopub.status.busy": "2024-06-30T23:19:11.620623Z",
     "iopub.status.idle": "2024-06-30T23:19:11.639472Z",
     "shell.execute_reply": "2024-06-30T23:19:11.638816Z",
     "shell.execute_reply.started": "2024-06-30T23:19:11.621033Z"
    }
   },
   "outputs": [
    {
     "data": {
      "text/plain": [
       "PosixPath('/afs/cs.stanford.edu/u/ranjanr/.cache/relbench.1719789551')"
      ]
     },
     "execution_count": 8,
     "metadata": {},
     "output_type": "execute_result"
    }
   ],
   "source": [
    "# clear current cache with backup\n",
    "ts = int(time.time())\n",
    "home = Path.home()\n",
    "Path(f\"{home}/.cache/relbench\").rename(f\"{home}/.cache/relbench.{ts}\")"
   ]
  },
  {
   "cell_type": "code",
   "execution_count": 13,
   "id": "4f5998ba-35ff-44f0-87ca-2ffb35f55b91",
   "metadata": {
    "execution": {
     "iopub.execute_input": "2024-06-30T23:40:08.399851Z",
     "iopub.status.busy": "2024-06-30T23:40:08.399418Z",
     "iopub.status.idle": "2024-06-30T23:40:08.443619Z",
     "shell.execute_reply": "2024-06-30T23:40:08.442592Z",
     "shell.execute_reply.started": "2024-06-30T23:40:08.399816Z"
    }
   },
   "outputs": [],
   "source": [
    "queue = \"relbench\""
   ]
  },
  {
   "cell_type": "code",
   "execution_count": null,
   "id": "54dcff0b-34d5-4788-a53e-fbf93903bd14",
   "metadata": {
    "execution": {
     "iopub.execute_input": "2024-07-01T00:33:36.057019Z",
     "iopub.status.busy": "2024-07-01T00:33:36.056548Z",
     "iopub.status.idle": "2024-07-01T00:33:36.102342Z",
     "shell.execute_reply": "2024-07-01T00:33:36.101231Z",
     "shell.execute_reply.started": "2024-07-01T00:33:36.056983Z"
    }
   },
   "outputs": [],
   "source": [
    "cmd = (\n",
    "    \"kaggle competitions download -c h-and-m-personalized-fashion-recommendations && \"\n",
    "    \"mkdir -p data/hm-recommendation && \"\n",
    "    \"mv h-and-m-personalized-fashion-recommendations.zip data/hm-recommendation\"\n",
    ")\n",
    "roach.submit(queue, cmd)"
   ]
  },
  {
   "cell_type": "code",
   "execution_count": 53,
   "id": "62c28370-cea9-4bd9-bf8d-b14b23c3b828",
   "metadata": {
    "execution": {
     "iopub.execute_input": "2024-07-01T06:35:00.411183Z",
     "iopub.status.busy": "2024-07-01T06:35:00.410773Z",
     "iopub.status.idle": "2024-07-01T06:35:04.061288Z",
     "shell.execute_reply": "2024-07-01T06:35:04.060510Z",
     "shell.execute_reply.started": "2024-07-01T06:35:00.411162Z"
    }
   },
   "outputs": [],
   "source": [
    "for dataset_name in get_dataset_names():\n",
    "    py_cmd = (\n",
    "        f\"from relbench.datasets import get_dataset; \"\n",
    "        f'get_dataset(\"{dataset_name}\", download=False).get_db()'\n",
    "    )\n",
    "    cmd = f\"python -c '{py_cmd}'\"\n",
    "    if dataset_name == \"rel-hm\":\n",
    "        requires = \"test -f data/hm-recommendation/h-and-m-personalized-fashion-recommendations.zip\"\n",
    "    else:\n",
    "        requires = \"true\"\n",
    "    roach.submit(queue, cmd, requires)"
   ]
  },
  {
   "cell_type": "code",
   "execution_count": 59,
   "id": "e943400b-7bf8-4a7b-a84a-1a07371ff2ee",
   "metadata": {
    "execution": {
     "iopub.execute_input": "2024-07-01T06:49:52.858041Z",
     "iopub.status.busy": "2024-07-01T06:49:52.857708Z",
     "iopub.status.idle": "2024-07-01T06:49:52.892996Z",
     "shell.execute_reply": "2024-07-01T06:49:52.891694Z",
     "shell.execute_reply.started": "2024-07-01T06:49:52.858020Z"
    }
   },
   "outputs": [],
   "source": [
    "for dataset_name in get_dataset_names():\n",
    "    for task_name in get_task_names(dataset_name):\n",
    "        py_cmd = (\n",
    "            f\"from relbench.tasks import get_task; \"\n",
    "            f'task = get_task(\"{dataset_name}\", \"{task_name}\", download=False); '\n",
    "            f'task.get_table(\"train\"); '\n",
    "            f'task.get_table(\"val\"); '\n",
    "            f'task.get_table(\"test\")'\n",
    "        )\n",
    "        cmd = f\"python -c '{py_cmd}'\"\n",
    "        requires = f\"test -d ~/.cache/relbench/{dataset_name}/db\"\n",
    "        roach.submit(queue, cmd, requires)"
   ]
  },
  {
   "cell_type": "code",
   "execution_count": 54,
   "id": "126f058c-8a42-4436-828f-6d07375a2100",
   "metadata": {
    "execution": {
     "iopub.execute_input": "2024-07-01T06:40:43.199624Z",
     "iopub.status.busy": "2024-07-01T06:40:43.199338Z",
     "iopub.status.idle": "2024-07-01T06:40:43.334879Z",
     "shell.execute_reply": "2024-07-01T06:40:43.334163Z",
     "shell.execute_reply.started": "2024-07-01T06:40:43.199599Z"
    }
   },
   "outputs": [],
   "source": [
    "for dataset_name in get_dataset_names():\n",
    "    cmd = (\n",
    "        f\"mkdir -p ~/.cache/relbench_upload/{dataset_name} && \"\n",
    "        f\"zip -r ~/.cache/relbench_upload/{dataset_name}/db ~/.cache/relbench/{dataset_name}/db\"\n",
    "    )\n",
    "    requires = f\"test -d ~/.cache/relbench/{dataset_name}/db\"\n",
    "    roach.submit(queue, cmd, requires)"
   ]
  },
  {
   "cell_type": "code",
   "execution_count": 55,
   "id": "fff6402f-5ed0-4cf7-ae55-16b8b5f23e55",
   "metadata": {
    "execution": {
     "iopub.execute_input": "2024-07-01T06:41:11.168162Z",
     "iopub.status.busy": "2024-07-01T06:41:11.167842Z",
     "iopub.status.idle": "2024-07-01T06:41:11.198534Z",
     "shell.execute_reply": "2024-07-01T06:41:11.198015Z",
     "shell.execute_reply.started": "2024-07-01T06:41:11.168138Z"
    }
   },
   "outputs": [],
   "source": [
    "for dataset_name in get_dataset_names():\n",
    "    for task_name in get_task_names(dataset_name):\n",
    "        cmd = (\n",
    "            f\"mkdir -p ~/.cache/relbench_upload/{dataset_name}/tasks && \"\n",
    "            f\"zip -r ~/.cache/relbench_upload/{dataset_name}/tasks/{task_name} ~/.cache/relbench/{dataset_name}/tasks/{task_name}\"\n",
    "        )\n",
    "        requires = f\"test -d ~/.cache/relbench/{dataset_name}/tasks/{task_name}\"\n",
    "        roach.submit(queue, cmd, requires)"
   ]
  },
  {
   "cell_type": "code",
   "execution_count": 56,
   "id": "c4a3a691-c34d-4847-bcc1-820ed647f7d2",
   "metadata": {
    "execution": {
     "iopub.execute_input": "2024-07-01T06:41:21.594575Z",
     "iopub.status.busy": "2024-07-01T06:41:21.594185Z",
     "iopub.status.idle": "2024-07-01T06:41:21.707071Z",
     "shell.execute_reply": "2024-07-01T06:41:21.706258Z",
     "shell.execute_reply.started": "2024-07-01T06:41:21.594553Z"
    }
   },
   "outputs": [],
   "source": [
    "tests = []\n",
    "for dataset_name in get_dataset_names():\n",
    "    test = f\"test -f ~/.cache/relbench_upload/{dataset_name}/db.zip\"\n",
    "    tests.append(test)\n",
    "requires = \" && \".join(tests)\n",
    "cmd = f\"python -c 'import utils; utils.db_hashes()'\"\n",
    "roach.submit(queue, cmd, requires)"
   ]
  },
  {
   "cell_type": "code",
   "execution_count": 57,
   "id": "d4176f75-c669-4ac4-8868-20b330c41a1f",
   "metadata": {
    "execution": {
     "iopub.execute_input": "2024-07-01T06:41:37.185246Z",
     "iopub.status.busy": "2024-07-01T06:41:37.184873Z",
     "iopub.status.idle": "2024-07-01T06:41:37.210238Z",
     "shell.execute_reply": "2024-07-01T06:41:37.209721Z",
     "shell.execute_reply.started": "2024-07-01T06:41:37.185225Z"
    }
   },
   "outputs": [],
   "source": [
    "tests = []\n",
    "for dataset_name in get_dataset_names():\n",
    "    for task_name in get_task_names():\n",
    "        test = f\"test -f ~/.cache/relbench_upload/{dataset_name}/tasks/{task_name}.zip\"\n",
    "        tests.append(test)\n",
    "requires = \" && \".join(tests)\n",
    "cmd = f\"python -c 'import utils; utils.task_hashes()'\"\n",
    "roach.submit(queue, cmd, requires)"
   ]
  },
  {
   "cell_type": "code",
   "execution_count": null,
   "id": "c3dbdbf5-82a3-48a4-aa88-9701792472a9",
   "metadata": {},
   "outputs": [],
   "source": []
  },
  {
   "cell_type": "code",
   "execution_count": null,
   "id": "4b7b52f7-38ce-4d19-aea5-bce92eba77c9",
   "metadata": {},
   "outputs": [],
   "source": []
  }
 ],
 "metadata": {
  "kernelspec": {
   "display_name": "Python 3 (ipykernel)",
   "language": "python",
   "name": "python3"
  },
  "language_info": {
   "codemirror_mode": {
    "name": "ipython",
    "version": 3
   },
   "file_extension": ".py",
   "mimetype": "text/x-python",
   "name": "python",
   "nbconvert_exporter": "python",
   "pygments_lexer": "ipython3",
   "version": "3.8.19"
  }
 },
 "nbformat": 4,
 "nbformat_minor": 5
}
