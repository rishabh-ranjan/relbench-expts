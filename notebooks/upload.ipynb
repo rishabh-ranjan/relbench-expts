{
 "cells": [
  {
   "cell_type": "code",
   "execution_count": 1,
   "id": "1b39b3ea-3d26-49af-8a2d-293ac9088c36",
   "metadata": {
    "execution": {
     "iopub.execute_input": "2024-07-06T00:12:28.204967Z",
     "iopub.status.busy": "2024-07-06T00:12:28.204522Z",
     "iopub.status.idle": "2024-07-06T00:12:29.992893Z",
     "shell.execute_reply": "2024-07-06T00:12:29.992253Z",
     "shell.execute_reply.started": "2024-07-06T00:12:28.204911Z"
    }
   },
   "outputs": [],
   "source": [
    "import time\n",
    "from pathlib import Path\n",
    "\n",
    "import roach\n",
    "\n",
    "from relbench.datasets import get_dataset, get_dataset_names\n",
    "from relbench.tasks import get_task, get_task_names"
   ]
  },
  {
   "cell_type": "code",
   "execution_count": 2,
   "id": "646f7599-c060-40fd-aa3d-e8ada8d0aecd",
   "metadata": {
    "execution": {
     "iopub.execute_input": "2024-07-06T00:12:29.994318Z",
     "iopub.status.busy": "2024-07-06T00:12:29.993924Z",
     "iopub.status.idle": "2024-07-06T00:12:30.012871Z",
     "shell.execute_reply": "2024-07-06T00:12:30.012341Z",
     "shell.execute_reply.started": "2024-07-06T00:12:29.994299Z"
    }
   },
   "outputs": [],
   "source": [
    "# clear current cache with backup\n",
    "ts = int(time.time())\n",
    "home = Path.home()\n",
    "try:\n",
    "    Path(f\"{home}/.cache/relbench\").rename(f\"{home}/.cache/relbench.{ts}\")\n",
    "except FileNotFoundError:\n",
    "    pass"
   ]
  },
  {
   "cell_type": "code",
   "execution_count": 3,
   "id": "4f5998ba-35ff-44f0-87ca-2ffb35f55b91",
   "metadata": {
    "execution": {
     "iopub.execute_input": "2024-07-06T00:12:30.013634Z",
     "iopub.status.busy": "2024-07-06T00:12:30.013478Z",
     "iopub.status.idle": "2024-07-06T00:12:30.101862Z",
     "shell.execute_reply": "2024-07-06T00:12:30.101350Z",
     "shell.execute_reply.started": "2024-07-06T00:12:30.013619Z"
    }
   },
   "outputs": [],
   "source": [
    "queue = \"relbench_cpu\""
   ]
  },
  {
   "cell_type": "code",
   "execution_count": 4,
   "id": "2b7d40e8-2808-44f5-b696-83b0b8a0edde",
   "metadata": {
    "execution": {
     "iopub.execute_input": "2024-07-06T00:12:30.102911Z",
     "iopub.status.busy": "2024-07-06T00:12:30.102749Z",
     "iopub.status.idle": "2024-07-06T00:12:30.134768Z",
     "shell.execute_reply": "2024-07-06T00:12:30.134288Z",
     "shell.execute_reply.started": "2024-07-06T00:12:30.102895Z"
    }
   },
   "outputs": [],
   "source": [
    "task_files = {}"
   ]
  },
  {
   "cell_type": "code",
   "execution_count": 5,
   "id": "d37f6d94-c85c-4c3f-a10c-7935aa630d82",
   "metadata": {
    "execution": {
     "iopub.execute_input": "2024-07-06T00:12:30.135416Z",
     "iopub.status.busy": "2024-07-06T00:12:30.135274Z",
     "iopub.status.idle": "2024-07-06T00:12:30.157394Z",
     "shell.execute_reply": "2024-07-06T00:12:30.157010Z",
     "shell.execute_reply.started": "2024-07-06T00:12:30.135401Z"
    }
   },
   "outputs": [],
   "source": [
    "def join(task_keys):\n",
    "    tests = []\n",
    "    for task_key in task_keys:\n",
    "        task_file = task_files[task_key]\n",
    "        task_file = task_file.replace(\"/ready/\", \"/done/\")\n",
    "        test = f\"test -f {task_file}\"\n",
    "        tests.append(test)\n",
    "    test = \" && \".join(tests)\n",
    "    return test"
   ]
  },
  {
   "cell_type": "code",
   "execution_count": 6,
   "id": "54dcff0b-34d5-4788-a53e-fbf93903bd14",
   "metadata": {
    "execution": {
     "iopub.execute_input": "2024-07-06T00:12:30.158022Z",
     "iopub.status.busy": "2024-07-06T00:12:30.157879Z",
     "iopub.status.idle": "2024-07-06T00:12:30.181803Z",
     "shell.execute_reply": "2024-07-06T00:12:30.181425Z",
     "shell.execute_reply.started": "2024-07-06T00:12:30.158007Z"
    }
   },
   "outputs": [],
   "source": [
    "cmd = (\n",
    "    \"kaggle competitions download -c event-recommendation-engine-challenge && \"\n",
    "    \"mkdir -p data/rel-event && \"\n",
    "    \"mv event-recommendation-engine-challenge.zip data/rel-event\"\n",
    ")\n",
    "task_files[\"download/rel-event\"] = roach.submit(queue, cmd)"
   ]
  },
  {
   "cell_type": "code",
   "execution_count": 7,
   "id": "1652dc06-fcca-4e57-aecc-f3a31c3c834e",
   "metadata": {
    "execution": {
     "iopub.execute_input": "2024-07-06T00:12:31.955972Z",
     "iopub.status.busy": "2024-07-06T00:12:31.955718Z",
     "iopub.status.idle": "2024-07-06T00:12:31.978844Z",
     "shell.execute_reply": "2024-07-06T00:12:31.978210Z",
     "shell.execute_reply.started": "2024-07-06T00:12:31.955955Z"
    }
   },
   "outputs": [],
   "source": [
    "cmd = (\n",
    "    \"kaggle competitions download -c h-and-m-personalized-fashion-recommendations && \"\n",
    "    \"mkdir -p data/hm-recommendation && \"\n",
    "    \"mv h-and-m-personalized-fashion-recommendations.zip data/hm-recommendation\"\n",
    ")\n",
    "task_files[\"download/rel-hm\"] = roach.submit(queue, cmd)"
   ]
  },
  {
   "cell_type": "code",
   "execution_count": 8,
   "id": "62c28370-cea9-4bd9-bf8d-b14b23c3b828",
   "metadata": {
    "execution": {
     "iopub.execute_input": "2024-07-06T00:12:32.207594Z",
     "iopub.status.busy": "2024-07-06T00:12:32.207300Z",
     "iopub.status.idle": "2024-07-06T00:12:32.231549Z",
     "shell.execute_reply": "2024-07-06T00:12:32.230916Z",
     "shell.execute_reply.started": "2024-07-06T00:12:32.207572Z"
    }
   },
   "outputs": [],
   "source": [
    "for dataset_name in get_dataset_names():\n",
    "    py_cmd = (\n",
    "        f\"from relbench.datasets import get_dataset; \"\n",
    "        f'get_dataset(\"{dataset_name}\", download=False).get_db()'\n",
    "    )\n",
    "    cmd = f\"python -c '{py_cmd}'\"\n",
    "    if dataset_name in [\"rel-hm\", \"rel-event\"]:\n",
    "        requires = join([f\"download/{dataset_name}\"])\n",
    "    else:\n",
    "        requires = \"true\"\n",
    "    task_files[f\"make_db/{dataset_name}\"] = roach.submit(queue, cmd, requires)"
   ]
  },
  {
   "cell_type": "code",
   "execution_count": 9,
   "id": "e943400b-7bf8-4a7b-a84a-1a07371ff2ee",
   "metadata": {
    "execution": {
     "iopub.execute_input": "2024-07-06T00:12:32.451201Z",
     "iopub.status.busy": "2024-07-06T00:12:32.450937Z",
     "iopub.status.idle": "2024-07-06T00:12:32.476051Z",
     "shell.execute_reply": "2024-07-06T00:12:32.475506Z",
     "shell.execute_reply.started": "2024-07-06T00:12:32.451180Z"
    }
   },
   "outputs": [],
   "source": [
    "for dataset_name in get_dataset_names():\n",
    "    for task_name in get_task_names(dataset_name):\n",
    "        py_cmd = (\n",
    "            f\"from relbench.tasks import get_task; \"\n",
    "            f'task = get_task(\"{dataset_name}\", \"{task_name}\", download=False); '\n",
    "            f'task.get_table(\"train\"); '\n",
    "            f'task.get_table(\"val\"); '\n",
    "            f'task.get_table(\"test\")'\n",
    "        )\n",
    "        cmd = f\"python -c '{py_cmd}'\"\n",
    "        requires = join([f\"make_db/{dataset_name}\"])\n",
    "        task_files[f\"make_tables/{dataset_name}/{task_name}\"] = roach.submit(queue, cmd, requires)"
   ]
  },
  {
   "cell_type": "code",
   "execution_count": 19,
   "id": "126f058c-8a42-4436-828f-6d07375a2100",
   "metadata": {
    "execution": {
     "iopub.execute_input": "2024-07-06T00:52:12.645662Z",
     "iopub.status.busy": "2024-07-06T00:52:12.645112Z",
     "iopub.status.idle": "2024-07-06T00:52:12.676980Z",
     "shell.execute_reply": "2024-07-06T00:52:12.675877Z",
     "shell.execute_reply.started": "2024-07-06T00:52:12.645633Z"
    }
   },
   "outputs": [],
   "source": [
    "for dataset_name in get_dataset_names():\n",
    "    cmd = (\n",
    "        f\"cd ~/.cache/relbench/{dataset_name} && \"\n",
    "        f\"zip -r db db\"\n",
    "    )\n",
    "    requires = join([f\"make_db/{dataset_name}\"])\n",
    "    roach.submit(queue, cmd, requires)"
   ]
  },
  {
   "cell_type": "code",
   "execution_count": 20,
   "id": "fff6402f-5ed0-4cf7-ae55-16b8b5f23e55",
   "metadata": {
    "execution": {
     "iopub.execute_input": "2024-07-06T00:52:12.825441Z",
     "iopub.status.busy": "2024-07-06T00:52:12.825075Z",
     "iopub.status.idle": "2024-07-06T00:52:12.855549Z",
     "shell.execute_reply": "2024-07-06T00:52:12.854916Z",
     "shell.execute_reply.started": "2024-07-06T00:52:12.825416Z"
    }
   },
   "outputs": [],
   "source": [
    "for dataset_name in get_dataset_names():\n",
    "    for task_name in get_task_names(dataset_name):\n",
    "        cmd = (\n",
    "            f\"cd ~/.cache/relbench/{dataset_name}/tasks && \"\n",
    "            f\"zip -r {task_name} {task_name}\"\n",
    "        )\n",
    "        requires = join([f\"make_tables/{dataset_name}/{task_name}\"])\n",
    "        roach.submit(queue, cmd, requires)"
   ]
  },
  {
   "cell_type": "code",
   "execution_count": 26,
   "id": "c4a3a691-c34d-4847-bcc1-820ed647f7d2",
   "metadata": {
    "execution": {
     "iopub.execute_input": "2024-07-06T00:58:56.046791Z",
     "iopub.status.busy": "2024-07-06T00:58:56.046090Z",
     "iopub.status.idle": "2024-07-06T00:58:56.070915Z",
     "shell.execute_reply": "2024-07-06T00:58:56.070172Z",
     "shell.execute_reply.started": "2024-07-06T00:58:56.046768Z"
    }
   },
   "outputs": [
    {
     "data": {
      "text/plain": [
       "'/lfs/local/0/ranjanr/queues/relbench_cpu/ready/1720227536067304680'"
      ]
     },
     "execution_count": 26,
     "metadata": {},
     "output_type": "execute_result"
    }
   ],
   "source": [
    "join_list = []\n",
    "for dataset_name in get_dataset_names():\n",
    "    join_list.append(f\"make_db/{dataset_name}\")\n",
    "requires = join(join_list)\n",
    "cmd = f\"python -c 'import utils; utils.db_hashes()'\"\n",
    "roach.submit(queue, cmd, requires)"
   ]
  },
  {
   "cell_type": "code",
   "execution_count": 28,
   "id": "d4176f75-c669-4ac4-8868-20b330c41a1f",
   "metadata": {
    "execution": {
     "iopub.execute_input": "2024-07-06T00:59:51.281477Z",
     "iopub.status.busy": "2024-07-06T00:59:51.281195Z",
     "iopub.status.idle": "2024-07-06T00:59:51.305954Z",
     "shell.execute_reply": "2024-07-06T00:59:51.305272Z",
     "shell.execute_reply.started": "2024-07-06T00:59:51.281456Z"
    }
   },
   "outputs": [
    {
     "data": {
      "text/plain": [
       "'/lfs/local/0/ranjanr/queues/relbench_cpu/ready/1720227591302366062'"
      ]
     },
     "execution_count": 28,
     "metadata": {},
     "output_type": "execute_result"
    }
   ],
   "source": [
    "join_list = []\n",
    "for dataset_name in get_dataset_names():\n",
    "    for task_name in get_task_names(dataset_name):\n",
    "        join_list.append(f\"make_tables/{dataset_name}/{task_name}\")\n",
    "requires = join(join_list)\n",
    "cmd = f\"python -c 'import utils; utils.task_hashes()'\"\n",
    "roach.submit(queue, cmd, requires)"
   ]
  },
  {
   "cell_type": "code",
   "execution_count": null,
   "id": "c3dbdbf5-82a3-48a4-aa88-9701792472a9",
   "metadata": {},
   "outputs": [],
   "source": []
  },
  {
   "cell_type": "code",
   "execution_count": null,
   "id": "4b7b52f7-38ce-4d19-aea5-bce92eba77c9",
   "metadata": {},
   "outputs": [],
   "source": []
  }
 ],
 "metadata": {
  "kernelspec": {
   "display_name": "Python 3 (ipykernel)",
   "language": "python",
   "name": "python3"
  },
  "language_info": {
   "codemirror_mode": {
    "name": "ipython",
    "version": 3
   },
   "file_extension": ".py",
   "mimetype": "text/x-python",
   "name": "python",
   "nbconvert_exporter": "python",
   "pygments_lexer": "ipython3",
   "version": "3.8.19"
  }
 },
 "nbformat": 4,
 "nbformat_minor": 5
}
