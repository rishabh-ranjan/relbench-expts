{
 "cells": [
  {
   "cell_type": "code",
   "execution_count": 1,
   "id": "1b39b3ea-3d26-49af-8a2d-293ac9088c36",
   "metadata": {
    "execution": {
     "iopub.execute_input": "2024-07-25T22:45:11.273456Z",
     "iopub.status.busy": "2024-07-25T22:45:11.273033Z",
     "iopub.status.idle": "2024-07-25T22:45:13.097512Z",
     "shell.execute_reply": "2024-07-25T22:45:13.096782Z",
     "shell.execute_reply.started": "2024-07-25T22:45:11.273416Z"
    }
   },
   "outputs": [],
   "source": [
    "from collections import defaultdict\n",
    "import time\n",
    "from pathlib import Path\n",
    "\n",
    "import roach\n",
    "\n",
    "from relbench.datasets import get_dataset, get_dataset_names\n",
    "from relbench.tasks import get_task, get_task_names"
   ]
  },
  {
   "cell_type": "code",
   "execution_count": 2,
   "id": "646f7599-c060-40fd-aa3d-e8ada8d0aecd",
   "metadata": {
    "execution": {
     "iopub.execute_input": "2024-07-06T00:12:29.994318Z",
     "iopub.status.busy": "2024-07-06T00:12:29.993924Z",
     "iopub.status.idle": "2024-07-06T00:12:30.012871Z",
     "shell.execute_reply": "2024-07-06T00:12:30.012341Z",
     "shell.execute_reply.started": "2024-07-06T00:12:29.994299Z"
    }
   },
   "outputs": [],
   "source": [
    "# clear current cache with backup\n",
    "ts = int(time.time())\n",
    "home = Path.home()\n",
    "try:\n",
    "    Path(f\"{home}/.cache/relbench\").rename(f\"{home}/.cache/relbench.{ts}\")\n",
    "except FileNotFoundError:\n",
    "    pass"
   ]
  },
  {
   "cell_type": "code",
   "execution_count": 35,
   "id": "f88ece18-ab30-4d8c-aaac-aae2ddc000b6",
   "metadata": {
    "execution": {
     "iopub.execute_input": "2024-07-06T03:39:33.209693Z",
     "iopub.status.busy": "2024-07-06T03:39:33.209408Z",
     "iopub.status.idle": "2024-07-06T03:39:33.229399Z",
     "shell.execute_reply": "2024-07-06T03:39:33.228960Z",
     "shell.execute_reply.started": "2024-07-06T03:39:33.209670Z"
    }
   },
   "outputs": [],
   "source": [
    "# clear current cache with backup\n",
    "ts = int(time.time())\n",
    "home = Path.home()\n",
    "try:\n",
    "    Path(f\"{home}/.cache/relbench_upload\").rename(f\"{home}/.cache/relbench_upload.{ts}\")\n",
    "except FileNotFoundError:\n",
    "    pass"
   ]
  },
  {
   "cell_type": "code",
   "execution_count": 2,
   "id": "4f5998ba-35ff-44f0-87ca-2ffb35f55b91",
   "metadata": {
    "execution": {
     "iopub.execute_input": "2024-07-25T22:45:16.685693Z",
     "iopub.status.busy": "2024-07-25T22:45:16.685331Z",
     "iopub.status.idle": "2024-07-25T22:45:16.718765Z",
     "shell.execute_reply": "2024-07-25T22:45:16.717621Z",
     "shell.execute_reply.started": "2024-07-25T22:45:16.685676Z"
    }
   },
   "outputs": [],
   "source": [
    "queue = \"relbench/2024-07-09_cpu\""
   ]
  },
  {
   "cell_type": "code",
   "execution_count": 3,
   "id": "2b7d40e8-2808-44f5-b696-83b0b8a0edde",
   "metadata": {
    "execution": {
     "iopub.execute_input": "2024-07-25T22:45:17.118761Z",
     "iopub.status.busy": "2024-07-25T22:45:17.118399Z",
     "iopub.status.idle": "2024-07-25T22:45:17.154300Z",
     "shell.execute_reply": "2024-07-25T22:45:17.152966Z",
     "shell.execute_reply.started": "2024-07-25T22:45:17.118726Z"
    }
   },
   "outputs": [],
   "source": [
    "task_files = defaultdict(lambda: \"~/README.md\") # just something that we know is a file"
   ]
  },
  {
   "cell_type": "code",
   "execution_count": 4,
   "id": "d37f6d94-c85c-4c3f-a10c-7935aa630d82",
   "metadata": {
    "execution": {
     "iopub.execute_input": "2024-07-25T22:45:17.462827Z",
     "iopub.status.busy": "2024-07-25T22:45:17.462465Z",
     "iopub.status.idle": "2024-07-25T22:45:17.498169Z",
     "shell.execute_reply": "2024-07-25T22:45:17.496950Z",
     "shell.execute_reply.started": "2024-07-25T22:45:17.462792Z"
    }
   },
   "outputs": [],
   "source": [
    "def join(task_keys):\n",
    "    tests = []\n",
    "    for task_key in task_keys:\n",
    "        task_file = task_files[task_key]\n",
    "        task_file = task_file.replace(\"/ready/\", \"/done/\")\n",
    "        test = f\"test -f {task_file}\"\n",
    "        tests.append(test)\n",
    "    test = \" && \".join(tests)\n",
    "    return test"
   ]
  },
  {
   "cell_type": "code",
   "execution_count": 6,
   "id": "54dcff0b-34d5-4788-a53e-fbf93903bd14",
   "metadata": {
    "execution": {
     "iopub.execute_input": "2024-07-06T00:12:30.158022Z",
     "iopub.status.busy": "2024-07-06T00:12:30.157879Z",
     "iopub.status.idle": "2024-07-06T00:12:30.181803Z",
     "shell.execute_reply": "2024-07-06T00:12:30.181425Z",
     "shell.execute_reply.started": "2024-07-06T00:12:30.158007Z"
    }
   },
   "outputs": [],
   "source": [
    "cmd = (\n",
    "    \"kaggle competitions download -c event-recommendation-engine-challenge && \"\n",
    "    \"mkdir -p data/rel-event && \"\n",
    "    \"mv event-recommendation-engine-challenge.zip data/rel-event\"\n",
    ")\n",
    "task_files[\"download/rel-event\"] = roach.submit(queue, cmd)"
   ]
  },
  {
   "cell_type": "code",
   "execution_count": 7,
   "id": "1652dc06-fcca-4e57-aecc-f3a31c3c834e",
   "metadata": {
    "execution": {
     "iopub.execute_input": "2024-07-06T00:12:31.955972Z",
     "iopub.status.busy": "2024-07-06T00:12:31.955718Z",
     "iopub.status.idle": "2024-07-06T00:12:31.978844Z",
     "shell.execute_reply": "2024-07-06T00:12:31.978210Z",
     "shell.execute_reply.started": "2024-07-06T00:12:31.955955Z"
    }
   },
   "outputs": [],
   "source": [
    "cmd = (\n",
    "    \"kaggle competitions download -c h-and-m-personalized-fashion-recommendations && \"\n",
    "    \"mkdir -p data/hm-recommendation && \"\n",
    "    \"mv h-and-m-personalized-fashion-recommendations.zip data/hm-recommendation\"\n",
    ")\n",
    "task_files[\"download/rel-hm\"] = roach.submit(queue, cmd)"
   ]
  },
  {
   "cell_type": "code",
   "execution_count": 5,
   "id": "62c28370-cea9-4bd9-bf8d-b14b23c3b828",
   "metadata": {
    "execution": {
     "iopub.execute_input": "2024-07-25T22:45:31.324838Z",
     "iopub.status.busy": "2024-07-25T22:45:31.324378Z",
     "iopub.status.idle": "2024-07-25T22:45:32.007838Z",
     "shell.execute_reply": "2024-07-25T22:45:32.006351Z",
     "shell.execute_reply.started": "2024-07-25T22:45:31.324800Z"
    }
   },
   "outputs": [],
   "source": [
    "for dataset_name in get_dataset_names():\n",
    "    py_cmd = (\n",
    "        f\"from relbench.datasets import get_dataset; \"\n",
    "        f'get_dataset(\"{dataset_name}\", download=False).get_db()'\n",
    "    )\n",
    "    cmd = f\"python -c '{py_cmd}'\"\n",
    "    if dataset_name in [\"rel-hm\", \"rel-event\"]:\n",
    "        requires = join([f\"download/{dataset_name}\"])\n",
    "    else:\n",
    "        requires = \"true\"\n",
    "    task_files[f\"make_db/{dataset_name}\"] = roach.submit(queue, cmd, requires)"
   ]
  },
  {
   "cell_type": "code",
   "execution_count": 6,
   "id": "e943400b-7bf8-4a7b-a84a-1a07371ff2ee",
   "metadata": {
    "execution": {
     "iopub.execute_input": "2024-07-25T22:45:38.320837Z",
     "iopub.status.busy": "2024-07-25T22:45:38.320534Z",
     "iopub.status.idle": "2024-07-25T22:45:38.343988Z",
     "shell.execute_reply": "2024-07-25T22:45:38.343387Z",
     "shell.execute_reply.started": "2024-07-25T22:45:38.320819Z"
    }
   },
   "outputs": [],
   "source": [
    "for dataset_name in get_dataset_names():\n",
    "    for task_name in get_task_names(dataset_name):\n",
    "        py_cmd = (\n",
    "            f\"from relbench.tasks import get_task; \"\n",
    "            f'task = get_task(\"{dataset_name}\", \"{task_name}\", download=False); '\n",
    "            f'task.get_table(\"train\"); '\n",
    "            f'task.get_table(\"val\"); '\n",
    "            f'task.get_table(\"test\")'\n",
    "        )\n",
    "        cmd = f\"python -c '{py_cmd}'\"\n",
    "        requires = join([f\"make_db/{dataset_name}\"])\n",
    "        task_files[f\"make_tables/{dataset_name}/{task_name}\"] = roach.submit(queue, cmd, requires)"
   ]
  },
  {
   "cell_type": "code",
   "execution_count": 7,
   "id": "126f058c-8a42-4436-828f-6d07375a2100",
   "metadata": {
    "execution": {
     "iopub.execute_input": "2024-07-25T22:45:48.307246Z",
     "iopub.status.busy": "2024-07-25T22:45:48.306870Z",
     "iopub.status.idle": "2024-07-25T22:45:48.330287Z",
     "shell.execute_reply": "2024-07-25T22:45:48.329663Z",
     "shell.execute_reply.started": "2024-07-25T22:45:48.307229Z"
    }
   },
   "outputs": [],
   "source": [
    "for dataset_name in get_dataset_names():\n",
    "    cmd = (\n",
    "        f\"cd ~/.cache/relbench/{dataset_name} && \"\n",
    "        f\"zip -r db db && \"\n",
    "        f\"mkdir -p ~/.cache/relbench_upload/{dataset_name} && \"\n",
    "        f\"mv db.zip ~/.cache/relbench_upload/{dataset_name}\"\n",
    "    )\n",
    "    requires = join([f\"make_db/{dataset_name}\"])\n",
    "    task_files[f\"zip_db/{dataset_name}\"] = roach.submit(queue, cmd, requires)"
   ]
  },
  {
   "cell_type": "code",
   "execution_count": 8,
   "id": "fff6402f-5ed0-4cf7-ae55-16b8b5f23e55",
   "metadata": {
    "execution": {
     "iopub.execute_input": "2024-07-25T22:45:51.725036Z",
     "iopub.status.busy": "2024-07-25T22:45:51.724779Z",
     "iopub.status.idle": "2024-07-25T22:45:51.749475Z",
     "shell.execute_reply": "2024-07-25T22:45:51.748876Z",
     "shell.execute_reply.started": "2024-07-25T22:45:51.725018Z"
    }
   },
   "outputs": [],
   "source": [
    "for dataset_name in get_dataset_names():\n",
    "    for task_name in get_task_names(dataset_name):\n",
    "        cmd = (\n",
    "            f\"cd ~/.cache/relbench/{dataset_name}/tasks && \"\n",
    "            f\"zip -r {task_name} {task_name} && \"\n",
    "            f\"mkdir -p ~/.cache/relbench_upload/{dataset_name}/tasks && \"\n",
    "            f\"mv {task_name}.zip ~/.cache/relbench_upload/{dataset_name}/tasks\"\n",
    "        )\n",
    "        requires = join([f\"make_tables/{dataset_name}/{task_name}\"])\n",
    "        task_files[f\"zip_task/{dataset_name}/{task_name}\"] = roach.submit(queue, cmd, requires)"
   ]
  },
  {
   "cell_type": "code",
   "execution_count": 9,
   "id": "c4a3a691-c34d-4847-bcc1-820ed647f7d2",
   "metadata": {
    "execution": {
     "iopub.execute_input": "2024-07-25T22:46:10.414099Z",
     "iopub.status.busy": "2024-07-25T22:46:10.413855Z",
     "iopub.status.idle": "2024-07-25T22:46:10.441093Z",
     "shell.execute_reply": "2024-07-25T22:46:10.440201Z",
     "shell.execute_reply.started": "2024-07-25T22:46:10.414082Z"
    }
   },
   "outputs": [
    {
     "data": {
      "text/plain": [
       "'/lfs/local/0/ranjanr/queues/relbench/2024-07-09_cpu/ready/1721947570435203965'"
      ]
     },
     "execution_count": 9,
     "metadata": {},
     "output_type": "execute_result"
    }
   ],
   "source": [
    "join_list = []\n",
    "for dataset_name in get_dataset_names():\n",
    "    join_list.append(f\"zip_db/{dataset_name}\")\n",
    "requires = join(join_list)\n",
    "py_cmd = (\n",
    "    \"import utils; \"\n",
    "    \"utils.db_hashes(in_dir=\\\"~/.cache/relbench_upload\\\", \"\n",
    "    \"out_file=\\\"/lfs/local/0/ranjanr/relbench/relbench/datasets/hashes.json\\\")\"\n",
    ")\n",
    "assert \"'\" not in py_cmd\n",
    "cmd = f\"python -c '{py_cmd}'\"\n",
    "roach.submit(queue, cmd, requires)"
   ]
  },
  {
   "cell_type": "code",
   "execution_count": 10,
   "id": "d4176f75-c669-4ac4-8868-20b330c41a1f",
   "metadata": {
    "execution": {
     "iopub.execute_input": "2024-07-25T22:46:18.685536Z",
     "iopub.status.busy": "2024-07-25T22:46:18.685288Z",
     "iopub.status.idle": "2024-07-25T22:46:18.709552Z",
     "shell.execute_reply": "2024-07-25T22:46:18.708980Z",
     "shell.execute_reply.started": "2024-07-25T22:46:18.685519Z"
    }
   },
   "outputs": [
    {
     "data": {
      "text/plain": [
       "'/lfs/local/0/ranjanr/queues/relbench/2024-07-09_cpu/ready/1721947578706268914'"
      ]
     },
     "execution_count": 10,
     "metadata": {},
     "output_type": "execute_result"
    }
   ],
   "source": [
    "join_list = []\n",
    "for dataset_name in get_dataset_names():\n",
    "    for task_name in get_task_names(dataset_name):\n",
    "        join_list.append(f\"zip_task/{dataset_name}/{task_name}\")\n",
    "requires = join(join_list)\n",
    "py_cmd = (\n",
    "    \"import utils; \"\n",
    "    \"utils.task_hashes(in_dir=\\\"~/.cache/relbench_upload\\\", \"\n",
    "    \"out_file=\\\"/lfs/local/0/ranjanr/relbench/relbench/tasks/hashes.json\\\")\"\n",
    ")\n",
    "assert \"'\" not in py_cmd\n",
    "cmd = f\"python -c '{py_cmd}'\"\n",
    "roach.submit(queue, cmd, requires)"
   ]
  },
  {
   "cell_type": "markdown",
   "id": "fe96fdb8-abfc-4bbe-97cd-0b07a4b12135",
   "metadata": {},
   "source": [
    "# upload"
   ]
  },
  {
   "cell_type": "code",
   "execution_count": 29,
   "id": "4b7b52f7-38ce-4d19-aea5-bce92eba77c9",
   "metadata": {
    "execution": {
     "iopub.execute_input": "2024-07-06T01:09:57.113224Z",
     "iopub.status.busy": "2024-07-06T01:09:57.112948Z",
     "iopub.status.idle": "2024-07-06T01:09:57.671166Z",
     "shell.execute_reply": "2024-07-06T01:09:57.670413Z",
     "shell.execute_reply.started": "2024-07-06T01:09:57.113203Z"
    }
   },
   "outputs": [
    {
     "name": "stderr",
     "output_type": "stream",
     "text": [
      "ranjanr@relbench.stanford.edu: Permission denied (publickey,gssapi-keyex,gssapi-with-mic,password).\n",
      "Permission denied, please try again.\n",
      "Permission denied, please try again.\n",
      "ranjanr@ampere4.stanford.edu: Permission denied (publickey,gssapi-keyex,gssapi-with-mic,password).\n"
     ]
    },
    {
     "ename": "CalledProcessError",
     "evalue": "Command 'b'scp -r ranjanr@ampere4.stanford.edu:~/.cache/relbench/**.zip ranjanr@relbench.stanford.edu:/lfs/0/staging/download\\n'' returned non-zero exit status 1.",
     "output_type": "error",
     "traceback": [
      "\u001b[0;31m---------------------------------------------------------------------------\u001b[0m",
      "\u001b[0;31mCalledProcessError\u001b[0m                        Traceback (most recent call last)",
      "Cell \u001b[0;32mIn[29], line 1\u001b[0m\n\u001b[0;32m----> 1\u001b[0m \u001b[43mget_ipython\u001b[49m\u001b[43m(\u001b[49m\u001b[43m)\u001b[49m\u001b[38;5;241;43m.\u001b[39;49m\u001b[43mrun_cell_magic\u001b[49m\u001b[43m(\u001b[49m\u001b[38;5;124;43m'\u001b[39;49m\u001b[38;5;124;43mbash\u001b[39;49m\u001b[38;5;124;43m'\u001b[39;49m\u001b[43m,\u001b[49m\u001b[43m \u001b[49m\u001b[38;5;124;43m'\u001b[39;49m\u001b[38;5;124;43m'\u001b[39;49m\u001b[43m,\u001b[49m\u001b[43m \u001b[49m\u001b[38;5;124;43m'\u001b[39;49m\u001b[38;5;124;43mscp -r ranjanr@ampere4.stanford.edu:~/.cache/relbench/**.zip ranjanr@relbench.stanford.edu:/lfs/0/staging/download\u001b[39;49m\u001b[38;5;130;43;01m\\n\u001b[39;49;00m\u001b[38;5;124;43m'\u001b[39;49m\u001b[43m)\u001b[49m\n",
      "File \u001b[0;32m/lfs/ampere4/0/ranjanr/micromamba/envs/relbench/lib/python3.8/site-packages/IPython/core/interactiveshell.py:2478\u001b[0m, in \u001b[0;36mInteractiveShell.run_cell_magic\u001b[0;34m(self, magic_name, line, cell)\u001b[0m\n\u001b[1;32m   2476\u001b[0m \u001b[38;5;28;01mwith\u001b[39;00m \u001b[38;5;28mself\u001b[39m\u001b[38;5;241m.\u001b[39mbuiltin_trap:\n\u001b[1;32m   2477\u001b[0m     args \u001b[38;5;241m=\u001b[39m (magic_arg_s, cell)\n\u001b[0;32m-> 2478\u001b[0m     result \u001b[38;5;241m=\u001b[39m \u001b[43mfn\u001b[49m\u001b[43m(\u001b[49m\u001b[38;5;241;43m*\u001b[39;49m\u001b[43margs\u001b[49m\u001b[43m,\u001b[49m\u001b[43m \u001b[49m\u001b[38;5;241;43m*\u001b[39;49m\u001b[38;5;241;43m*\u001b[39;49m\u001b[43mkwargs\u001b[49m\u001b[43m)\u001b[49m\n\u001b[1;32m   2480\u001b[0m \u001b[38;5;66;03m# The code below prevents the output from being displayed\u001b[39;00m\n\u001b[1;32m   2481\u001b[0m \u001b[38;5;66;03m# when using magics with decodator @output_can_be_silenced\u001b[39;00m\n\u001b[1;32m   2482\u001b[0m \u001b[38;5;66;03m# when the last Python token in the expression is a ';'.\u001b[39;00m\n\u001b[1;32m   2483\u001b[0m \u001b[38;5;28;01mif\u001b[39;00m \u001b[38;5;28mgetattr\u001b[39m(fn, magic\u001b[38;5;241m.\u001b[39mMAGIC_OUTPUT_CAN_BE_SILENCED, \u001b[38;5;28;01mFalse\u001b[39;00m):\n",
      "File \u001b[0;32m/lfs/ampere4/0/ranjanr/micromamba/envs/relbench/lib/python3.8/site-packages/IPython/core/magics/script.py:153\u001b[0m, in \u001b[0;36mScriptMagics._make_script_magic.<locals>.named_script_magic\u001b[0;34m(line, cell)\u001b[0m\n\u001b[1;32m    151\u001b[0m \u001b[38;5;28;01melse\u001b[39;00m:\n\u001b[1;32m    152\u001b[0m     line \u001b[38;5;241m=\u001b[39m script\n\u001b[0;32m--> 153\u001b[0m \u001b[38;5;28;01mreturn\u001b[39;00m \u001b[38;5;28;43mself\u001b[39;49m\u001b[38;5;241;43m.\u001b[39;49m\u001b[43mshebang\u001b[49m\u001b[43m(\u001b[49m\u001b[43mline\u001b[49m\u001b[43m,\u001b[49m\u001b[43m \u001b[49m\u001b[43mcell\u001b[49m\u001b[43m)\u001b[49m\n",
      "File \u001b[0;32m/lfs/ampere4/0/ranjanr/micromamba/envs/relbench/lib/python3.8/site-packages/IPython/core/magics/script.py:305\u001b[0m, in \u001b[0;36mScriptMagics.shebang\u001b[0;34m(self, line, cell)\u001b[0m\n\u001b[1;32m    300\u001b[0m \u001b[38;5;28;01mif\u001b[39;00m args\u001b[38;5;241m.\u001b[39mraise_error \u001b[38;5;129;01mand\u001b[39;00m p\u001b[38;5;241m.\u001b[39mreturncode \u001b[38;5;241m!=\u001b[39m \u001b[38;5;241m0\u001b[39m:\n\u001b[1;32m    301\u001b[0m     \u001b[38;5;66;03m# If we get here and p.returncode is still None, we must have\u001b[39;00m\n\u001b[1;32m    302\u001b[0m     \u001b[38;5;66;03m# killed it but not yet seen its return code. We don't wait for it,\u001b[39;00m\n\u001b[1;32m    303\u001b[0m     \u001b[38;5;66;03m# in case it's stuck in uninterruptible sleep. -9 = SIGKILL\u001b[39;00m\n\u001b[1;32m    304\u001b[0m     rc \u001b[38;5;241m=\u001b[39m p\u001b[38;5;241m.\u001b[39mreturncode \u001b[38;5;129;01mor\u001b[39;00m \u001b[38;5;241m-\u001b[39m\u001b[38;5;241m9\u001b[39m\n\u001b[0;32m--> 305\u001b[0m     \u001b[38;5;28;01mraise\u001b[39;00m CalledProcessError(rc, cell)\n",
      "\u001b[0;31mCalledProcessError\u001b[0m: Command 'b'scp -r ranjanr@ampere4.stanford.edu:~/.cache/relbench/**.zip ranjanr@relbench.stanford.edu:/lfs/0/staging/download\\n'' returned non-zero exit status 1."
     ]
    }
   ],
   "source": [
    "%%bash\n",
    "scp -r ~/.cache/relbench_upload/* ranjanr@relbench.stanford.edu:/lfs/0/staging/download"
   ]
  },
  {
   "cell_type": "code",
   "execution_count": null,
   "id": "03fef719-20ac-469c-b072-671fb4a14cc8",
   "metadata": {},
   "outputs": [],
   "source": []
  }
 ],
 "metadata": {
  "kernelspec": {
   "display_name": "Python 3 (ipykernel)",
   "language": "python",
   "name": "python3"
  },
  "language_info": {
   "codemirror_mode": {
    "name": "ipython",
    "version": 3
   },
   "file_extension": ".py",
   "mimetype": "text/x-python",
   "name": "python",
   "nbconvert_exporter": "python",
   "pygments_lexer": "ipython3",
   "version": "3.8.19"
  }
 },
 "nbformat": 4,
 "nbformat_minor": 5
}
